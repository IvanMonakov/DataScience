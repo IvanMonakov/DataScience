{
 "cells": [
  {
   "cell_type": "markdown",
   "metadata": {},
   "source": [
    "# 1. Знакомимся с данными\n",
    "✍ Вы уже умеете делать запросы к одной таблице, использовать агрегатные функции и фильтровать данные в выводе. Но в реальных условиях базы данных обычно содержат множество таблиц и при запросе необходимо обращаться к нескольким таблицам. Освоением этого навыка мы сейчас и займёмся ↓\n",
    "\n",
    "→ Первым делом — знакомимся с датасетом.\n",
    "\n",
    "В этом модуле мы будем работать с таблицами о футбольных матчах и командах.\n",
    "\n",
    "Таблицы этого модуля, как и все другие в курсе, лежат в схеме sql в Metabase. Нам понадобятся таблицы teams и matches."
   ]
  },
  {
   "cell_type": "markdown",
   "metadata": {},
   "source": [
    "#  2. Соединение таблиц по ключу\n",
    "\n",
    "✍ Существует несколько способов соединения таблиц. Мы познакомимся со всеми основными операторами, которые используются для этих нужд, но начнём с простого метода объединения таблиц — без операторов.\n",
    "\n",
    "Чтобы соединить две таблицы между собой, достаточно записать названия таблиц через запятую в разделе from. Что произойдёт в таком случае?\n",
    "\n",
    "Каждая запись, которая есть в таблице teams, будет соединена с каждой записью в таблице matches.\n",
    "\n",
    "Это действие также называют декартовым произведением таблиц.\n",
    "?\n",
    "Действительно ли это произведение?\n",
    "\n",
    "Легко проверить! В исходных таблицах teams и matches было 299 и 25083 записей соответственно. Если соединить каждую запись одной таблицы с каждой записью другой, получится 299 * 25083 записей в итоговой таблице."
   ]
  },
  {
   "cell_type": "code",
   "execution_count": null,
   "metadata": {},
   "outputs": [],
   "source": [
    "# SELECT *\n",
    "# FROM\n",
    "#     sql.teams,\n",
    "#     sql.matches"
   ]
  },
  {
   "cell_type": "markdown",
   "metadata": {},
   "source": [
    "В данном случае соединение таблиц не даёт практической пользы: мы получили очень много записей, которые никак не можем интерпретировать, потому что команды не соответствуют матчам.\n",
    "\n",
    "Давайте исправим это. В таблице teams есть столбец api_id, а таблица matches содержит столбцы home_team_api_id и away_team_api_id — это ключи таблиц, по которым они соединяются.\n",
    "\n",
    "Ключ — это поле (столбец) в таблице, которое позволяет однозначно идентифицировать запись (строку).\n",
    "\n",
    "Чтобы соединить таблицы и получить данные о домашней команде по каждому матчу, добавим условие\n",
    "where home_team_api_id = api_id.\n",
    "\n",
    "Аналогично можем получить данные о гостевых командах: необходимо изменить условие на\n",
    "where away_team_api_id = api_id."
   ]
  },
  {
   "cell_type": "code",
   "execution_count": null,
   "metadata": {},
   "outputs": [],
   "source": [
    "# SELECT *\n",
    "# FROM\n",
    "#     sql.teams,\n",
    "#     sql.matches\n",
    "# WHERE home_team_api_id = api_id"
   ]
  },
  {
   "cell_type": "markdown",
   "metadata": {},
   "source": [
    "Вы уже знакомы с ключами по таблице pokemon (там в этой роли выступал столбец id). Ключи нужны для того, чтобы иметь возможность не перепутать между собой различные записи.\n",
    "\n",
    "→ Например, у нас есть несколько команд с одинаковым названием: Polonia Bytom, Widzew Łódź и Royal Excel Mouscron — хотя это разные команды, с разными id.\n",
    "Кроме того, как мы уже смогли убедиться, ключи используются для соединения таблиц между собой.\n",
    "\n",
    "Ключи бывают двух основных типов:\n",
    "\n",
    "- Primary — первичный ключ — служит для идентификации текущей таблицы и, как правило, идёт первым в списке столбцов. Всегда уникален: повторяющихся значений в основной таблице быть не может.\n",
    "- Foreign — внешний ключ — представляет собой ссылку на другую таблицу.\n",
    "\n",
    "Как правило, названия ключей имеют «хвост», который позволяет их идентифицировать: например, _id, _rk, _cd, _pk (от primary_key), _fk (от foreign_key) и другие.\n",
    "\n",
    "Обратите внимание! В данном датасете ключ api_id таблицы teams может быть использован в разных значениях. Его можно использовать для того, чтобы получить информацию о домашней (home) или гостевой (away) команде.\n",
    "\n",
    "Вы могли заметить, что в последних двух запросах получилось очень много столбцов. Как и при работе с одиночной таблицей, мы можем выбирать, какие столбцы соединённой таблицы выводить.\n",
    "\n",
    "С помощью известного нам запроса получим названия команд, игравших домашние матчи, и счёт матчей."
   ]
  },
  {
   "cell_type": "markdown",
   "metadata": {},
   "source": [
    "# 3. Знакомимся с JOIN\n",
    "\n",
    "✍ В прошлом юните для соединения таблиц мы использовали условие в разделе where, чтобы показать принцип работы оператора JOIN.\n",
    "\n",
    "JOIN — это оператор SQL, который позволяет соединять таблицы по условию.\n",
    "\n",
    "В качестве примера используем запрос из предыдущего юнита."
   ]
  },
  {
   "cell_type": "code",
   "execution_count": null,
   "metadata": {},
   "outputs": [],
   "source": [
    "# SELECT \n",
    "#     long_name,\n",
    "#     home_team_goals,\n",
    "#     away_team_goals\n",
    "# FROM\n",
    "#     sql.teams,\n",
    "#     sql.matches\n",
    "# WHERE home_team_api_id = api_id"
   ]
  },
  {
   "cell_type": "code",
   "execution_count": null,
   "metadata": {},
   "outputs": [],
   "source": [
    "# и запишем его с использованием JOIN.\n",
    "#     long_name,\n",
    "#     home_team_goals,\n",
    "#     away_team_goals\n",
    "# FROM\n",
    "#     sql.teams\n",
    "# JOIN sql.matches on home_team_api_id = api_id"
   ]
  },
  {
   "cell_type": "markdown",
   "metadata": {},
   "source": [
    "### СИНТАКСИС\n",
    "\n",
    "Оператор JOIN упрощает процесс соединения таблиц.\n",
    "\n",
    "Его синтаксис можно представить следующим образом:"
   ]
  },
  {
   "cell_type": "code",
   "execution_count": null,
   "metadata": {},
   "outputs": [],
   "source": [
    "# SELECT\n",
    "#       столбец1,\n",
    "# \t    столбец2,\n",
    "# \t...\n",
    "# FROM\n",
    "# \t    таблица1\n",
    "# JOIN таблица2 ON условие"
   ]
  },
  {
   "cell_type": "markdown",
   "metadata": {},
   "source": [
    "Порядок присоединения таблиц в данном случае не важен — результат будет одинаковым.\n",
    "\n",
    "С помощью JOIN можно соединить и более двух таблиц.\n",
    "\n",
    "В таблицах, которые мы соединяем, могут быть одинаковые названия столбцов.\n",
    "\n",
    "→ К примеру, столбец id есть и в таблице matches, и в таблице teams. Такой запрос не будет обработан."
   ]
  },
  {
   "cell_type": "code",
   "execution_count": 1,
   "metadata": {},
   "outputs": [],
   "source": [
    "# SELECT\n",
    "#     id   (Не верно!!!)\n",
    "# FROM \n",
    "#     sql.teams\n",
    "# JOIN sql.matches ON home_team_api_id = api_id"
   ]
  },
  {
   "cell_type": "markdown",
   "metadata": {},
   "source": [
    "В результате должно появиться сообщение об ошибке вроде такого: \"... column id is ambiguous ...\".\n",
    "\n",
    "?\n",
    "Что же делать в таком случае?\n",
    "\n",
    "Можно указать, откуда мы хотим запросить данные, записав название таблицы перед столбцом через точку."
   ]
  },
  {
   "cell_type": "code",
   "execution_count": null,
   "metadata": {},
   "outputs": [],
   "source": [
    "# SELECT\n",
    "#     teams.id  (Правильно!!!)\n",
    "# FROM \n",
    "#     sql.teams\n",
    "# JOIN sql.matches ON home_team_api_id = api_id"
   ]
  },
  {
   "cell_type": "markdown",
   "metadata": {},
   "source": [
    "Зачастую названия таблиц слишком длинные, так что использовать их неудобно.\n",
    "\n",
    "Упростить обращение к различным таблицам можно, присвоив им сокращённые названия — алиасы (от англ. alias).\n",
    "\n",
    "Синтаксис для указания алиаса такой же, как и для названия столбца."
   ]
  },
  {
   "cell_type": "code",
   "execution_count": null,
   "metadata": {},
   "outputs": [],
   "source": [
    "# SELECT\n",
    "#      столбец1,\n",
    "#      столбец2,\n",
    "# \t...\n",
    "# FROM\n",
    "# \t   таблица1 AS короткое_название_1\n",
    "# JOIN таблица2 AS короткое_название_2 ON условие"
   ]
  },
  {
   "cell_type": "markdown",
   "metadata": {},
   "source": [
    "Название записывается без пробелов и операторов.\n",
    "\n",
    "Если необходимо записать название, в котором используются пробелы (\"table 1\"), то алиас можно обернуть в кавычки.\n",
    "\n",
    "Важно! Обращаться по такому алиасу придётся также с помощью кавычек."
   ]
  },
  {
   "cell_type": "markdown",
   "metadata": {},
   "source": [
    "Использование таких алиасов считается плохой практикой как минимум по причине того, что обращаться с такими алиасами неудобно.\n",
    "\n",
    "Вместо алиасов с кавычками рекомендуется давать простое короткое название на латинице, без специальных символов и пробелов. Если таблиц немного и все названия начинаются с разных букв, можно присваивать алиасы по первой букве.\n",
    "\n",
    "Ключевое слово as, как и в названии столбца, можно опустить в большинстве СУБД."
   ]
  },
  {
   "cell_type": "code",
   "execution_count": null,
   "metadata": {},
   "outputs": [],
   "source": [
    "# SELECT\n",
    "#       столбец1 новое_название_столбца,\n",
    "#  \t    столбец2 новое_название_столбца,\n",
    "# \t...\n",
    "# FROM\n",
    "# \t   таблица1 короткое_название_1\n",
    "# JOIN таблица2 короткое_название_2 ON условие"
   ]
  },
  {
   "cell_type": "markdown",
   "metadata": {},
   "source": [
    "# Задание 3.2\n",
    "Напишите запрос, который выведет два столбца: id матча (match_id) и id домашней команды (team_id). Отсортируйте по id матча в порядке возрастания значений."
   ]
  },
  {
   "cell_type": "code",
   "execution_count": null,
   "metadata": {},
   "outputs": [],
   "source": [
    "# SELECT\n",
    "#     matches.id AS match_id,\n",
    "#     teams.id AS team_id\n",
    "# FROM \n",
    "#     sql.teams\n",
    "# JOIN \n",
    "#     sql.matches \n",
    "# ON \n",
    "#     sql.teams.api_id = sql.matches.home_team_api_id\n",
    "# ORDER BY \n",
    "#     match_id;\n"
   ]
  },
  {
   "cell_type": "markdown",
   "metadata": {},
   "source": [
    "Кажется, теперь мы можем соединить таблицы между собой и создать своё табло со счётом матчей, как на спортивных сайтах!\n",
    "\n",
    "Давайте с помощью запроса SQL получим таблицу, содержащую:\n",
    "\n",
    "- название домашней команды;\n",
    "- количество забитых домашней командой голов;\n",
    "- количество забитых гостевой командой голов;\n",
    "- название гостевой команды."
   ]
  },
  {
   "cell_type": "code",
   "execution_count": null,
   "metadata": {},
   "outputs": [],
   "source": [
    "# SELECT\n",
    "#     h.long_name \"домашняя команда\",\n",
    "#     m.home_team_goals \"голы домашней команды\",\n",
    "#     m.away_team_goals \"голы гостевой команды\",\n",
    "#     a.long_name \"гостевая команда\" \n",
    "# FROM\n",
    "#     sql.matches m\n",
    "#     JOIN sql.teams h ON m.home_team_api_id = h.api_id\n",
    "#     JOIN sql.teams a ON m.away_team_api_id = a.api_id"
   ]
  },
  {
   "cell_type": "markdown",
   "metadata": {},
   "source": [
    "### Задание 3.3\n",
    "Напишите запрос, который выведет столбцы:\n",
    "\n",
    "id матча,\n",
    "короткое название домашней команды (home_short),\n",
    "короткое название гостевой команды (away_short).\n",
    "Отсортируйте запрос по возрастанию id матча."
   ]
  },
  {
   "cell_type": "code",
   "execution_count": null,
   "metadata": {},
   "outputs": [],
   "source": [
    "# SELECT \n",
    "#     m.id,\n",
    "#     t.short_name home_short,\n",
    "#     t1.short_name away_short\n",
    "# FROM sql.matches m\n",
    "# JOIN sql.teams t on t.api_id = m.home_team_api_id\n",
    "# JOIN sql.teams t1 on t1.api_id = m.away_team_api_id \n",
    "# ORDER BY 1\n"
   ]
  },
  {
   "cell_type": "markdown",
   "metadata": {},
   "source": [
    "# 4. Фильтрация и агрегатные функции\n",
    "\n",
    "### РАБОТА С ОБЪЕДИНЁННЫМИ ТАБЛИЦАМИ\n",
    "\n",
    "✍ Соединять таблицы мы научились, теперь давайте научимся получать необходимые данные из нескольких таблиц ↓\n",
    "Принцип построения запроса и порядок операторов такой же, как и с обычной таблицей.\n",
    "\n",
    "Вспомним его:\n",
    "\n"
   ]
  },
  {
   "cell_type": "code",
   "execution_count": null,
   "metadata": {},
   "outputs": [],
   "source": [
    "# SELECT... \n",
    "# FROM... \n",
    "# WHERE... \n",
    "# GROUP BY... \n",
    "# ORDER BY... \n",
    "# LIMIT..."
   ]
  },
  {
   "cell_type": "markdown",
   "metadata": {},
   "source": [
    "ФИЛЬТРАЦИЯ ДАННЫХ\n",
    "\n",
    "К соединённым таблицам применимы функции фильтрации данных.\n",
    "\n",
    "Например, можно вывести id матчей, в которых команда Arsenal была гостевой.\n",
    "\n",
    "⛏\n",
    "ПОПРОБУЙТЕ В METABASE!"
   ]
  },
  {
   "cell_type": "code",
   "execution_count": null,
   "metadata": {},
   "outputs": [],
   "source": [
    "# SELECT \n",
    "#     m.id\n",
    "# FROM\n",
    "#     sql.teams t\n",
    "#     JOIN sql.matches m ON m.away_team_api_id = t.api_id\n",
    "# WHERE long_name = 'Arsenal'"
   ]
  },
  {
   "cell_type": "markdown",
   "metadata": {},
   "source": [
    "### !!!\n",
    "Принципиальное отличие фильтрации данных по соединённым таблицам от аналогичного действия по одиночным таблицам заключается в том, что, фильтруя записи одной таблицы, мы также будем фильтровать и записи другой таблицы, поскольку соединённые на уровне запроса таблицы по сути являются единой таблицей.\n",
    "\n",
    "Например, результат запроса"
   ]
  },
  {
   "cell_type": "code",
   "execution_count": null,
   "metadata": {},
   "outputs": [],
   "source": [
    "# SELECT \n",
    "# \tm.id id_1,\n",
    "# \tm.season,\n",
    "#\tt.id id_2,\n",
    "#\tt.long_name\n",
    "# FROM\n",
    "# \tsql.teams t\n",
    "# JOIN sql.matches m ON m.away_team_api_id = t.api_id"
   ]
  },
  {
   "cell_type": "markdown",
   "metadata": {},
   "source": [
    "### Задание 4.1\n",
    "Напишите запрос, который выведет полное название домашней команды (long_name), количество голов домашней команды (home_goal) и количество голов гостевой команды (away_goal) в матчах, где домашней командой были команды с коротким названием 'GEN'. Отсортируйте запрос по id матча в порядке возрастания."
   ]
  },
  {
   "cell_type": "code",
   "execution_count": null,
   "metadata": {},
   "outputs": [],
   "source": [
    "# SELECT\n",
    "#     h.long_name AS home_long_name,\n",
    "#     m.home_team_goals AS home_goal,\n",
    "#     m.away_team_goals AS away_goal\n",
    "# FROM\n",
    "#     sql.matches m\n",
    "#     JOIN sql.teams h ON m.home_team_api_id = h.api_id\n",
    "# WHERE\n",
    "#     h.short_name = 'GEN'\n",
    "# ORDER BY\n",
    "#     m.id ASC;"
   ]
  },
  {
   "cell_type": "markdown",
   "metadata": {},
   "source": [
    "Также мы можем отфильтровать записи сразу по двум таблицам.\n",
    "\n",
    "⛏\n",
    "ПОПРОБУЙТЕ В METABASE!\n",
    "\n",
    "Например, можно оставить только записи, в которых короткое название домашней команды GEN и матчи сезона 2008/2009."
   ]
  },
  {
   "cell_type": "code",
   "execution_count": null,
   "metadata": {},
   "outputs": [],
   "source": [
    "# SELECT *\n",
    "# FROM    \n",
    "#     sql.matches m\n",
    "#     JOIN sql.teams t on t.api_id = m.home_team_api_id\n",
    "# WHERE\n",
    "#     t.short_name = 'GEN'\n",
    "#     AND m.season = '2008/2009'"
   ]
  },
  {
   "cell_type": "markdown",
   "metadata": {},
   "source": [
    "### Задание 4.2\n",
    "Напишите запрос, чтобы вывести id матчей, короткое название домашней команды (home_short), короткое название гостевой команды (away_short) для матчей сезона 2011/2012, в которых участвовала команда с названием Liverpool. Отсортируйте по id матча в порядке возрастания."
   ]
  },
  {
   "cell_type": "code",
   "execution_count": null,
   "metadata": {},
   "outputs": [],
   "source": [
    "# SELECT\n",
    "#     m.id,\n",
    "#     h.short_name AS home_short,\n",
    "#     a.short_name AS away_short\n",
    "# FROM\n",
    "#     sql.matches m\n",
    "#     JOIN sql.teams h ON m.home_team_api_id = h.api_id\n",
    "#     JOIN sql.teams a ON m.away_team_api_id = a.api_id\n",
    "# WHERE\n",
    "#     m.season = '2011/2012' AND (\n",
    "#         h.long_name = 'Liverpool' OR\n",
    "#         a.long_name = 'Liverpool'\n",
    "#     )\n",
    "# ORDER BY\n",
    "#     m.id ASC;"
   ]
  },
  {
   "cell_type": "markdown",
   "metadata": {},
   "source": [
    "### АГРЕГАЦИЯ ДАННЫХ\n",
    "\n",
    "К соединённым таблицам также применимы любые агрегатные функции — самые важные функции для анализа данных.\n",
    "\n",
    "⛏\n",
    "ПОПРОБУЙТЕ В METABASE!\n",
    "\n",
    "Например, мы можем вывести сумму голов матча, забитых командами, агрегированную по гостевым командам (совокупное количество голов в матче, забитых обеими командами, суммированное в разрезе гостевых команд)."
   ]
  },
  {
   "cell_type": "code",
   "execution_count": null,
   "metadata": {},
   "outputs": [],
   "source": [
    "# SELECT\n",
    "#     t.long_name,\n",
    "#     SUM(m.home_team_goals) + SUM(m.away_team_goals) match_goals\n",
    "# FROM\n",
    "#     sql.matches m\n",
    "#     JOIN sql.teams t ON m.away_team_api_id = t.api_id \n",
    "# GROUP BY t.id"
   ]
  },
  {
   "cell_type": "markdown",
   "metadata": {},
   "source": [
    "Обратите внимание! В данном запросе была использована группировка по столбцу id таблицы teams, хотя этот столбец не выводится в запросе. Это необходимо для того, чтобы команды с одинаковым названием, если такие найдутся, не группировались между собой. Группировка по названию команды в данном запросе будет неверной, так как есть несколько команд с одинаковым полным названием — мы говорили об этом в начале модуля.\n",
    "\n",
    "Также, применяя агрегатные функции к соединённым таблицам, обращайте внимание на указание алиасов (или таблиц) при группировке и указании столбцов агрегатных функций. В нашей соединённой таблице есть два столбца с названием id, и если бы мы сформировали запрос без указания таблицы, как указано ниже, то...система выдала бы уже знакомую нам ошибку: \"... column \"id\" is ambiguous ...\".\n",
    "\n",
    "Мы можем использовать оператор HAVING для фильтрации сгруппированных данных.\n",
    "\n",
    "Поставим задачу — вывести таблицу с суммарным количеством забитых голов в матчах по командам и сезонам для команд, в которых суммарное количество голов в матчах сезона больше 100.\n",
    "\n",
    "⛏\n",
    "ПОПРОБУЙТЕ В METABASE!\n",
    "\n",
    "Для начала посчитаем общее количество голов в матчах по сезонам.\n",
    "\n"
   ]
  },
  {
   "cell_type": "code",
   "execution_count": null,
   "metadata": {},
   "outputs": [],
   "source": [
    "# SELECT\n",
    "#     m.season,\n",
    "#     SUM(m.home_team_goals) + SUM(m.away_team_goals) total_goalsFROM sql.matches m\n",
    "# GROUP BY m.season"
   ]
  },
  {
   "cell_type": "code",
   "execution_count": null,
   "metadata": {},
   "outputs": [],
   "source": [
    "# SELECT\n",
    "#     m.season,\n",
    "#     t.long_name,\n",
    "#     SUM(m.home_team_goals) + SUM(m.away_team_goals) total_goals\n",
    "# FROM sql.matches m\n",
    "# JOIN sql.teams t ON t.api_id = m.home_team_api_id OR t.api_id = m.away_team_api_id\n",
    "# GROUP BY m.season, t.id\n",
    "# HAVING SUM(m.home_team_goals) + SUM(m.away_team_goals) > 100"
   ]
  },
  {
   "cell_type": "markdown",
   "metadata": {},
   "source": [
    "## 5. Способы соединения таблиц\n",
    "### ОПЕРАТОРЫ\n",
    "\n",
    "✍ В прошлых юнитах для соединения таблиц мы использовали один оператор — JOIN. В действительности же он не один: существует несколько различных видов соединений (join’ов) — давайте посмотрим, какие ↓\n",
    "\n",
    "\n",
    "### INNER JOIN\n",
    "\n",
    "INNER JOIN — это тот же JOIN (слово inner в операторе можно опустить).\n",
    "\n",
    "Для INNER JOIN работает следующее правило: присоединяются только те строки таблиц, которые удовлетворяют условию соединения. Если в любой из соединяемых таблиц находятся такие строки, которые не удовлетворяют заявленному условию, — они отбрасываются.\n",
    "\n",
    "Рассмотрим на примере нашего датасета. \n",
    "\n",
    "В таблице teams есть данные о 299 различных командах — можем проверить это с помощью запроса.\n",
    "\n",
    "⛏\n",
    "ПОПРОБУЙТЕ В METABASE!\n",
    "\n"
   ]
  },
  {
   "cell_type": "code",
   "execution_count": null,
   "metadata": {},
   "outputs": [],
   "source": [
    "# SELECT \n",
    "# COUNT(DISTINCT id)\n",
    "# FROM sql.teams\n",
    "\n",
    "\n",
    "\n",
    "# SELECT \n",
    "# COUNT(DISTINCT api_id)\n",
    "# FROM sql.teams"
   ]
  },
  {
   "cell_type": "markdown",
   "metadata": {},
   "source": [
    "Теперь добавим к teams таблицу с матчами.\n",
    "И в таблице останется уже не 299 команд, а только 292."
   ]
  },
  {
   "cell_type": "code",
   "execution_count": null,
   "metadata": {},
   "outputs": [],
   "source": [
    "# SELECT \n",
    "# COUNT(DISTINCT t.id) \n",
    "# FROM \n",
    "# sql.teams t\n",
    "# JOIN sql.matches m ON t.api_id = m.home_team_api_id OR t.api_id = m.away_team_api_id"
   ]
  },
  {
   "cell_type": "markdown",
   "metadata": {},
   "source": [
    "Дело в том, что таблица sql.matches по какой-то причине не содержит информацию о командах Lierse SK, KVC Westerlo, KAS Eupen, Club Brugge KV, KV Oostende, RSC Anderlecht и Hull City, зато они есть в таблице sql.teams. Возможно, эти команды не участвовали ни в одном матче или записи по этим матчам были удалены."
   ]
  },
  {
   "cell_type": "markdown",
   "metadata": {},
   "source": [
    "### LEFT OUTER JOIN И RIGHT OUTER JOIN\n",
    "\n",
    "Также существуют схожие друг с другом типы соединения — LEFT JOIN и RIGHT JOIN (слово outer в операторе можно опустить).\n",
    "\n",
    "Для LEFT JOIN работает следующее правило: из левой (относительно оператора) таблицы сохраняются все строки, а из правой добавляются только те, которые соответствуют условию соединения. Если в правой таблице не находится соответствия, то значения строк второй таблицы будут иметь значение NULL.\n",
    "\n",
    "LEFT JOIN может быть полезен, когда соответствующих записей во второй таблице может не быть, но важно сохранить записи из первой таблицы.\n",
    "\n",
    "?\n",
    "Почему соответствий может не быть?\n",
    "\n",
    "Причины могут быть разные, назовём две основные:\n",
    "\n",
    "1\n",
    "Различная бизнес-логика таблиц.\n",
    "\n",
    "Пример: в интернет-магазине почти всегда можно оформить заказ с промокодом. Вполне вероятно, что информация о промокодах хранится в отдельной таблице, но при этом не для каждого заказа будет существовать промокод, поскольку покупку можно оформить и без него.\n",
    "\n",
    "2\n",
    "Разное время обновления таблиц.\n",
    "\n",
    "Пример: клиент зарегистрировался на сайте интернет-магазина и оформил заказ. Данные о регистрации клиентов могут обновляться в базе данных раз в неделю, а о заказах — раз в сутки.\n",
    "\n",
    "→ Поставим следующую задачу: вывести полные названия команд, данных по которым нет в таблице matches.\n",
    "\n",
    "Для начала посмотрим на результат запроса после соединения"
   ]
  },
  {
   "cell_type": "code",
   "execution_count": null,
   "metadata": {},
   "outputs": [],
   "source": [
    "# SELECT\n",
    "#     t.long_name,\n",
    "#     m.id\n",
    "# FROM sql.teams t\n",
    "# LEFT JOIN sql.matches m ON t.api_id = m.home_team_api_id OR t.api_id = m.away_team_api_id\n",
    "# ORDER BY m.id DESC"
   ]
  },
  {
   "cell_type": "markdown",
   "metadata": {},
   "source": [
    "Вывод: в таблице teams сохранились все записи, а в таблице matches есть пустые строки.\n",
    "\n",
    "Теперь, чтобы выбрать такие команды, которые не принимали участия в матчах, достаточно добавить условие where m.id is null (или любое другое поле таблицы matches)."
   ]
  },
  {
   "cell_type": "code",
   "execution_count": null,
   "metadata": {},
   "outputs": [],
   "source": [
    "# SELECT\n",
    "#    t.long_name\n",
    "# FROM \n",
    "#    sql.teams t\n",
    "# LEFT JOIN sql.matches m ON t.api_id = m.home_team_api_id OR t.api_id = m.away_team_api_id\n",
    "# WHERE m.id IS NULL"
   ]
  },
  {
   "cell_type": "markdown",
   "metadata": {},
   "source": [
    "### !!!\n",
    "Обратите внимание! Если мы добавим какой-либо фильтр по отличному от NULL значению для таблицы matches, то LEFT JOIN превратится в INNER JOIN, поскольку для второй таблицы станет необходимым присутствие такого (NOT NULL) значения в строке."
   ]
  },
  {
   "cell_type": "code",
   "execution_count": null,
   "metadata": {},
   "outputs": [],
   "source": [
    "# SELECT\n",
    "#     t.long_name FROM sql.teams t\n",
    "# LEFT JOIN sql.matches m ON t.api_id = m.home_team_api_id OR t.api_id = m.away_team_api_id\n",
    "# WHERE\n",
    "#     m.season = '2008/2009'\n",
    "# AND t.long_name = 'KAS Eupen'"
   ]
  },
  {
   "cell_type": "markdown",
   "metadata": {},
   "source": [
    "В ответе Metabase получим No results!, так как вместе с фильтром m.season = '2008/2009' исчезли все строки, значения которых NULL."
   ]
  },
  {
   "cell_type": "markdown",
   "metadata": {},
   "source": [
    "С LEFT JOIN также работают агрегатные функции, что позволяет не потерять значения из левой таблицы. Например, мы можем вывести сумму голов команд по гостевым матчам."
   ]
  },
  {
   "cell_type": "code",
   "execution_count": null,
   "metadata": {},
   "outputs": [],
   "source": [
    "# SELECT\n",
    "#     t.long_name,\n",
    "#     SUM(m.away_team_goals) total_goals\n",
    "# FROM   \n",
    "#     sql.teams t\n",
    "# LEFT JOIN sql.matches m ON t.api_id = m.away_team_api_id\n",
    "# GROUP BY t.id\n",
    "# ORDER BY 2 DESC"
   ]
  },
  {
   "cell_type": "markdown",
   "metadata": {},
   "source": [
    "### !!! \n",
    "Обратите внимание! При применении функций SUM, MIN, MAX, AVG к полям со значением NULL в результате получится NULL, а не 0. А при использовании функции COUNT, наоборот, получится 0."
   ]
  },
  {
   "cell_type": "markdown",
   "metadata": {},
   "source": [
    "### FULL OUTER JOIN\n",
    "Оператор FULL OUTER JOIN объединяет в себе LEFT и RIGHT JOIN и позволяет сохранить кортежи обеих таблиц. Даже если не будет соответствий, мы сохраним все записи из обеих таблиц.\n",
    "\n",
    "FULL OUTER JOIN может быть полезен в ситуациях, когда схема данных недостаточно нормализована и не хватает таблиц-справочников.\n",
    "\n",
    "Пример: в базе данных интернет-магазина есть две таблицы — с зарегистрированными пользователями и пользователями, оформившими заказ. При этом оформить заказ можно без регистрации, а зарегистрироваться — без оформления заказа.\n",
    "\n",
    "Предположим, что вам необходимо получить полный список пользователей — и оформивших заказ, и зарегистрированных, — но в базе данных этой объединённой таблицы нет. В данном случае можно использовать FULL OUTER JOIN для получения полного списка, соединив таким образом таблицы c заказами и регистрациями по id пользователя."
   ]
  },
  {
   "cell_type": "code",
   "execution_count": null,
   "metadata": {},
   "outputs": [],
   "source": [
    "# Синтаксис FULL OUTER JOIN аналогичен другим JOIN.\n",
    "\n",
    "# SELECT \n",
    "# …\n",
    "# FROM\n",
    "# \ttable1\n",
    "# FULL OUTER JOIN table2 ON условие"
   ]
  },
  {
   "cell_type": "markdown",
   "metadata": {},
   "source": [
    "### CROSS JOIN\n",
    "На самом деле с этим оператором соединения таблиц вы познакомились в самом начале текущего модуля.\n",
    "\n",
    "CROSS JOIN соединяет таблицы так, что каждая запись в первой таблице присоединяется к каждой записи во второй таблице, иначе говоря, даёт декартово произведение."
   ]
  },
  {
   "cell_type": "code",
   "execution_count": null,
   "metadata": {},
   "outputs": [],
   "source": [
    "# SELECT *\n",
    "# FROM\n",
    "#     sql.teams,\n",
    "#     sql.matches"
   ]
  },
  {
   "cell_type": "markdown",
   "metadata": {},
   "source": [
    "## ="
   ]
  },
  {
   "cell_type": "code",
   "execution_count": null,
   "metadata": {},
   "outputs": [],
   "source": [
    "# SELECT *\n",
    "# FROM\n",
    "#     sql.teams\n",
    "#     CROSS JOIN sql.matches"
   ]
  },
  {
   "cell_type": "markdown",
   "metadata": {},
   "source": [
    "CROSS JOIN может быть полезен, когда необходимо создать таблицу фактов.\n",
    "\n",
    "Например, с помощью такого запроса мы можем получить все возможные комбинации полных названий команд в матчах."
   ]
  },
  {
   "cell_type": "code",
   "execution_count": null,
   "metadata": {},
   "outputs": [],
   "source": [
    "# SELECT\n",
    "#     DISTINCT\n",
    "#     t1.long_name home_team, \n",
    "#     t2.long_name away_team\n",
    "# FROM\n",
    "#     sql.teams t1\n",
    "#     CROSS JOIN sql.teams t2"
   ]
  },
  {
   "cell_type": "markdown",
   "metadata": {},
   "source": [
    "### NATURAL JOIN\n",
    "\n",
    "Ключевое слово natural в начале оператора JOIN позволяет не указывать условие соединения таблиц — для соединения будут использованы столбцы с одинаковым названием из этих таблиц.\n",
    "\n",
    "NATURAL JOIN можно использовать с любыми видами соединений, которые требуют условия соединения:\n",
    "\n",
    "- → NATURAL INNER JOIN (возможна запись NATURAL JOIN);\n",
    "- → NATURAL LEFT JOIN;\n",
    "- → NATURAL RIGHT JOIN;\n",
    "- → NATURAL FULL OUTER JOIN.\n",
    "\n",
    "При использовании NATURAL JOIN прежде всего стоит обратить внимание на ключи таблиц. Для наших таблиц teams и matches этот вид соединения не подойдёт, так как общим для обеих таблиц является столбец id, но таблицы соединяются по другим столбцам.\n",
    "\n",
    "Когда у таблиц есть несколько столбцов с одинаковыми именами, при NATURAL JOIN условие соединения будет применено на все столбцы с одинаковыми именами.\n",
    "\n",
    "То есть для таблиц table1 и table2\n",
    "\n",
    "table1: id, name, ...\n",
    "\n",
    "table2: id, name, ..."
   ]
  },
  {
   "cell_type": "code",
   "execution_count": null,
   "metadata": {},
   "outputs": [],
   "source": [
    "# запрос\n",
    "\n",
    "# SELECT \n",
    "# …\n",
    "# FROM          table1 NATURAL JOIN table2\n",
    "\n",
    "# будет равнозначен запросу\n",
    "\n",
    "# SELECT\n",
    "# …\n",
    "# FROM          table1 t1\n",
    "# INNER JOIN table2 t2 ON t1.id = t2.id AND t1.name = t2.name"
   ]
  },
  {
   "cell_type": "markdown",
   "metadata": {},
   "source": [
    "### ОБЩАЯ ЛОГИКА ПОСТРОЕНИЯ ЗАПРОСА С JOIN\n",
    "При построении запроса с несколькими JOIN старайтесь идти слева направо. Сначала выберите таблицу, которая является центральной в соответствии с поставленной задачей, вопросом. Затем добавляйте таблицы поэтапно в зависимости от бизнес-логики запроса.\n",
    "\n",
    "Например, для ответа на вопрос: «Какая команда сыграла больше всех матчей в сезоне 2010/2011?» в качестве центральной лучше выбрать таблицу с командами.\n",
    "\n",
    "А для ответа на вопрос: «В каком сезоне участвовало больше всего команд?» — таблицу с матчами.\n",
    "\n",
    "Стоит отметить, что из рассмотренных видов соединений чаще всего используются INNER JOIN и LEFT JOIN. Другие операторы используются реже, но стоит помнить об их существовании при решении нестандартных задач."
   ]
  },
  {
   "cell_type": "markdown",
   "metadata": {},
   "source": [
    "## 6. Итоги. Закрепление знаний\n",
    "✍ В этом модуле вы познакомились с разными способами вертикального соединения таблиц.\n",
    "\n",
    "Теперь вы умеете:\n",
    "\n",
    "- соединять таблицы по ключу;\n",
    "- соединять таблицы с помощью оператора JOIN;\n",
    "- использовать разные виды JOIN;\n",
    "- применять агрегации к объединённым таблицам и фильтровать вывод.\n",
    "\n",
    "Теперь давайте закрепим полученные знания ↓\n",
    "\n",
    "Вам предстоит выполнить пять заданий на написание SQL-запросов по определённым условиям.\n",
    "\n",
    "Если какую-то задачу не получается выполнить с первого раза — не отчаивайтесь. Соединение таблиц — одна из самых сложных тем для освоения и эффективного использования языка SQL.\n",
    "\n",
    "Если при выполнении заданий возникли трудности, попробуйте вернуться к материалам и посмотреть примеры запросов для разных задач."
   ]
  },
  {
   "cell_type": "markdown",
   "metadata": {},
   "source": [
    "### Задание 6.1\n",
    "Напишите запрос, который выведет список уникальных полных названий команд (long_name), игравших в гостях в матчах сезона 2012/2013. Отсортируйте список в алфавитном порядке."
   ]
  },
  {
   "cell_type": "code",
   "execution_count": null,
   "metadata": {},
   "outputs": [],
   "source": [
    "\n",
    "# SELECT DISTINCT\n",
    "#     t1.long_name AS away_team\n",
    "# FROM \n",
    "#     sql.teams t1\n",
    "# JOIN \n",
    "#     sql.matches t2 ON t1.api_id = t2.away_team_api_id\n",
    "# WHERE \n",
    "#     t2.season = '2012/2013'\n",
    "# ORDER BY \n",
    "#     t1.long_name ASC;"
   ]
  },
  {
   "cell_type": "markdown",
   "metadata": {},
   "source": [
    "### Задание 6.2\n",
    "Напишите запрос, который выведет полное название команды (long_name) и общее количество матчей (matches_cnt), сыгранных командой Inter в домашних матчах."
   ]
  },
  {
   "cell_type": "code",
   "execution_count": null,
   "metadata": {},
   "outputs": [],
   "source": [
    "# SELECT\n",
    "#     t.long_name AS team_name,\n",
    "#     COUNT(m.id) AS matches_cnt\n",
    "# FROM \n",
    "#     sql.teams t\n",
    "# JOIN \n",
    "#     sql.matches m ON t.api_id = m.home_team_api_id\n",
    "# WHERE \n",
    "#     t.long_name = 'Inter'\n",
    "# GROUP BY\n",
    "#     t.long_name;"
   ]
  },
  {
   "cell_type": "markdown",
   "metadata": {},
   "source": [
    "### Задание 6.3\n",
    "Напишите запрос, который выведет топ-10 команд (long_name) по суммарному количеству забитых голов в гостевых матчах. Во втором столбце запроса выведите суммарное количество голов в гостевых матчах (total_goals)."
   ]
  },
  {
   "cell_type": "code",
   "execution_count": null,
   "metadata": {},
   "outputs": [],
   "source": [
    "# SELECT\n",
    "#     t.long_name,\n",
    "#     SUM(m.away_team_goals) total_goals\n",
    "# FROM sql.teams t\n",
    "# JOIN sql.matches m ON t.api_id = m.away_team_api_id\n",
    "# GROUP BY t.id\n",
    "# ORDER BY 2 desc\n",
    "# LIMIT 10\n"
   ]
  },
  {
   "cell_type": "markdown",
   "metadata": {},
   "source": [
    "В этом запросе:\n",
    "\n",
    "- SELECT t.long_name AS team_name, COUNT(m.id) AS matches_cnt выбирает полное название команды и подсчитывает количество матчей, в которых команда была домашней.\n",
    "- JOIN sql.matches m ON t.api_id = m.home_team_api_id соединяет таблицу teams с таблицей matches по идентификатору домашней команды.\n",
    "- WHERE t.long_name = 'Real Madrid CF' OR t.long_name = 'FC Barcelona' фильтрует записи для двух команд: \"Real Madrid CF\" и \"FC Barcelona\".\n",
    "- GROUP BY t.long_name группирует результаты по полному названию команды.\n",
    "- ORDER BY matches_cnt DESC сортирует результаты по количеству матчей в порядке убывания."
   ]
  },
  {
   "cell_type": "markdown",
   "metadata": {},
   "source": [
    "### Задание 6.4\n",
    "Выведите количество матчей между командами Real Madrid CF и FC Barcelona. В поле ниже введите запрос, с помощью которого вы решили задание."
   ]
  },
  {
   "cell_type": "code",
   "execution_count": null,
   "metadata": {},
   "outputs": [],
   "source": [
    "# SELECT\n",
    "#     COUNT(m.id) AS matches_cnt\n",
    "# FROM \n",
    "#     sql.matches m\n",
    "# JOIN \n",
    "#     sql.teams t1 ON m.home_team_api_id = t1.api_id\n",
    "# JOIN \n",
    "#     sql.teams t2 ON m.away_team_api_id = t2.api_id\n",
    "# WHERE \n",
    "#     (t1.long_name = 'Real Madrid CF' AND t2.long_name = 'FC Barcelona')\n",
    "#     OR (t1.long_name = 'FC Barcelona' AND t2.long_name = 'Real Madrid CF');"
   ]
  },
  {
   "cell_type": "markdown",
   "metadata": {},
   "source": [
    "В этом запросе:\n",
    "\n",
    "- SELECT COUNT(m.id) AS matches_cnt подсчитывает количество матчей.\n",
    "- JOIN sql.teams t1 ON m.home_team_api_id = t1.api_id соединяет таблицу matches с таблицей teams для домашней команды.\n",
    "- JOIN sql.teams t2 ON m.away_team_api_id = t2.api_id соединяет таблицу matches с таблицей teams для гостевой команды.\n",
    "- WHERE (t1.long_name = 'Real Madrid CF' AND t2.long_name = 'FC Barcelona') OR (t1.long_name = 'FC Barcelona' AND t2.long_name = 'Real Madrid CF') фильтрует матчи, где одна команда является домашней, а другая гостевой, и наоборот."
   ]
  },
  {
   "cell_type": "markdown",
   "metadata": {},
   "source": [
    "### Задание 6.5 \n",
    "Напишите запрос, который выведет название команды (long_name), сезон (season) и суммарное количество забитых голов в домашних матчах (total_goals). Оставьте только те строки, в которых суммарное количество голов менее десяти. Отсортируйте запрос по названию команды, а затем — по сезону."
   ]
  },
  {
   "cell_type": "code",
   "execution_count": null,
   "metadata": {},
   "outputs": [],
   "source": [
    "# SELECT\n",
    "#     t.long_name AS team_name,\n",
    "#     m.season,\n",
    "#     SUM(m.home_team_goals) AS total_goals\n",
    "# FROM \n",
    "#     sql.matches m\n",
    "# JOIN \n",
    "#     sql.teams t ON m.home_team_api_id = t.api_id\n",
    "# GROUP BY\n",
    "#     t.long_name, m.season\n",
    "# HAVING\n",
    "#     SUM(m.home_team_goals) < 10\n",
    "# ORDER BY \n",
    "#     t.long_name, m.season;"
   ]
  },
  {
   "cell_type": "markdown",
   "metadata": {},
   "source": [
    "В этом запросе:\n",
    "\n",
    "- SELECT t.long_name AS team_name, m.season, SUM(m.home_team_goals) AS total_home_goals выбирает полное название команды, сезон и сумму голов, забитых командой в домашних матчах.\n",
    "- JOIN sql.teams t ON m.home_team_api_id = t.api_id соединяет таблицу matches с таблицей teams по идентификатору домашней команды.\n",
    "- GROUP BY t.long_name, m.season группирует данные по названию команды и сезону.\n",
    "- HAVING SUM(m.home_team_goals) < 10 фильтрует результаты, оставляя только те команды, которые забили менее 10 голов в домашних матчах за сезон.\n",
    "- ORDER BY t.long_name, m.season сортирует результаты по названию команды и сезону.\n",
    "\n",
    "\n",
    "\n",
    "\n",
    "\n"
   ]
  }
 ],
 "metadata": {
  "kernelspec": {
   "display_name": "Python 3",
   "language": "python",
   "name": "python3"
  },
  "language_info": {
   "codemirror_mode": {
    "name": "ipython",
    "version": 3
   },
   "file_extension": ".py",
   "mimetype": "text/x-python",
   "name": "python",
   "nbconvert_exporter": "python",
   "pygments_lexer": "ipython3",
   "version": "3.9.10"
  }
 },
 "nbformat": 4,
 "nbformat_minor": 2
}
