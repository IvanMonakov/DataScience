{
 "cells": [
  {
   "cell_type": "markdown",
   "metadata": {},
   "source": [
    "Примечание. На самом деле мультииндексные таблицы можно создавать и вручную. Давайте посмотрим на синтаксис данной конструкции:\n",
    "\n",
    "import numpy as np\n",
    "mser = pd.Series(\n",
    "    np.random.rand(8),\n",
    "\tindex=[['white','white','white','blue','blue','red','red','red'], \n",
    "           ['up','down','right','up','down','up','down','left']])\n",
    "display(mser)\n",
    "Img\n",
    "\n",
    "В данном примере мы создаём объект Series со вложенными индексами. Мы передаём в качестве индексов Series вложенный список, где первый список задаёт внешний уровень вложенности, а второй список — внутренний уровень вложенности. Значения Series — случайные числа от 0 до 1, сгенерированные функцией np.random.rand() (ваши значения могут отличаться).\n",
    "\n",
    "Если посмотреть на индексы Series, можно увидеть, что они являются мультииндексами:\n",
    "\n",
    "print(mser.index)\n",
    "Img\n",
    "\n",
    "Аналогично создаются DataFrame со вложенными признаками (вложенными столбцами) — для этого вложенный список передаётся в параметр columns при инициализации таблицы:\n",
    "\n",
    "mframe = pd.DataFrame(\n",
    "    np.random.randn(16).reshape(4,4),\n",
    "    index=[['white','white','red','red'], ['up','down','up','down']],\n",
    "    columns=[['pen','pen','paper','paper'],[1,2,1,2]]\n",
    ")\n",
    "display(mframe)\n"
   ]
  },
  {
   "cell_type": "code",
   "execution_count": 3,
   "metadata": {},
   "outputs": [
    {
     "data": {
      "text/plain": [
       "white  up       0.187770\n",
       "       down     0.668733\n",
       "       right    0.242440\n",
       "blue   up       0.873511\n",
       "       down     0.489159\n",
       "red    up       0.639817\n",
       "       down     0.723705\n",
       "       left     0.388598\n",
       "dtype: float64"
      ]
     },
     "metadata": {},
     "output_type": "display_data"
    },
    {
     "name": "stdout",
     "output_type": "stream",
     "text": [
      "MultiIndex([('white',    'up'),\n",
      "            ('white',  'down'),\n",
      "            ('white', 'right'),\n",
      "            ( 'blue',    'up'),\n",
      "            ( 'blue',  'down'),\n",
      "            (  'red',    'up'),\n",
      "            (  'red',  'down'),\n",
      "            (  'red',  'left')],\n",
      "           )\n"
     ]
    },
    {
     "data": {
      "text/html": [
       "<div>\n",
       "<style scoped>\n",
       "    .dataframe tbody tr th:only-of-type {\n",
       "        vertical-align: middle;\n",
       "    }\n",
       "\n",
       "    .dataframe tbody tr th {\n",
       "        vertical-align: top;\n",
       "    }\n",
       "\n",
       "    .dataframe thead tr th {\n",
       "        text-align: left;\n",
       "    }\n",
       "</style>\n",
       "<table border=\"1\" class=\"dataframe\">\n",
       "  <thead>\n",
       "    <tr>\n",
       "      <th></th>\n",
       "      <th></th>\n",
       "      <th colspan=\"2\" halign=\"left\">pen</th>\n",
       "      <th colspan=\"2\" halign=\"left\">paper</th>\n",
       "    </tr>\n",
       "    <tr>\n",
       "      <th></th>\n",
       "      <th></th>\n",
       "      <th>1</th>\n",
       "      <th>2</th>\n",
       "      <th>1</th>\n",
       "      <th>2</th>\n",
       "    </tr>\n",
       "  </thead>\n",
       "  <tbody>\n",
       "    <tr>\n",
       "      <th rowspan=\"2\" valign=\"top\">white</th>\n",
       "      <th>up</th>\n",
       "      <td>0.077010</td>\n",
       "      <td>-0.198160</td>\n",
       "      <td>0.545824</td>\n",
       "      <td>-0.548382</td>\n",
       "    </tr>\n",
       "    <tr>\n",
       "      <th>down</th>\n",
       "      <td>1.750267</td>\n",
       "      <td>0.533494</td>\n",
       "      <td>-1.242112</td>\n",
       "      <td>0.463293</td>\n",
       "    </tr>\n",
       "    <tr>\n",
       "      <th rowspan=\"2\" valign=\"top\">red</th>\n",
       "      <th>up</th>\n",
       "      <td>1.643860</td>\n",
       "      <td>0.288115</td>\n",
       "      <td>0.695844</td>\n",
       "      <td>0.937201</td>\n",
       "    </tr>\n",
       "    <tr>\n",
       "      <th>down</th>\n",
       "      <td>0.387953</td>\n",
       "      <td>-0.775273</td>\n",
       "      <td>-0.669414</td>\n",
       "      <td>0.957445</td>\n",
       "    </tr>\n",
       "  </tbody>\n",
       "</table>\n",
       "</div>"
      ],
      "text/plain": [
       "                 pen               paper          \n",
       "                   1         2         1         2\n",
       "white up    0.077010 -0.198160  0.545824 -0.548382\n",
       "      down  1.750267  0.533494 -1.242112  0.463293\n",
       "red   up    1.643860  0.288115  0.695844  0.937201\n",
       "      down  0.387953 -0.775273 -0.669414  0.957445"
      ]
     },
     "metadata": {},
     "output_type": "display_data"
    }
   ],
   "source": [
    "#Примечание. На самом деле мультииндексные таблицы можно создавать и вручную. \n",
    "# Давайте посмотрим на синтаксис данной конструкции:\n",
    "import pandas as pd\n",
    "import numpy as np\n",
    "\n",
    "mser = pd.Series(\n",
    "    np.random.rand(8),\n",
    "\tindex=[['white','white','white','blue','blue','red','red','red'], \n",
    "           ['up','down','right','up','down','up','down','left']])\n",
    "display(mser)\n",
    "\n",
    "\n",
    "#В данном примере мы создаём объект Series со вложенными индексами. Мы передаём \n",
    "# в качестве индексов Series вложенный список, где первый список задаёт внешний \n",
    "# уровень вложенности, а второй список — внутренний уровень вложенности. \n",
    "# Значения Series — случайные числа от 0 до 1, сгенерированные функцией np.random.rand() \n",
    "# (ваши значения могут отличаться).\n",
    "\n",
    "#Если посмотреть на индексы Series, можно увидеть, что они являются мультииндексами:\n",
    "\n",
    "print(mser.index)\n",
    "\n",
    "\n",
    "# Аналогично создаются DataFrame со вложенными признаками (вложенными столбцами) — \n",
    "# для этого вложенный список передаётся в параметр columns при инициализации таблицы:\n",
    "\n",
    "mframe = pd.DataFrame(\n",
    "    np.random.randn(16).reshape(4,4),\n",
    "    index=[['white','white','red','red'], ['up','down','up','down']],\n",
    "    columns=[['pen','pen','paper','paper'],[1,2,1,2]]\n",
    ")\n",
    "display(mframe)\n"
   ]
  },
  {
   "cell_type": "code",
   "execution_count": 12,
   "metadata": {},
   "outputs": [
    {
     "name": "stdout",
     "output_type": "stream",
     "text": [
      "19729490\n"
     ]
    }
   ],
   "source": [
    "import pandas as pd\n",
    "\n",
    "items_df = pd.DataFrame({\n",
    "            'item_id': [417283, 849734, 132223, 573943, 19475, 3294095, 382043, 302948, 100132, 312394],\n",
    "            'vendor': ['Samsung', 'LG', 'Apple', 'Apple', 'LG', 'Apple', 'Samsung', 'Samsung', 'LG', 'ZTE'],\n",
    "            'stock_count': [54, 33, 122, 18, 102, 43, 77, 143, 60, 19]\n",
    "        })\n",
    "\n",
    "purchase_df = pd.DataFrame({\n",
    "            'purchase_id': [101, 101, 101, 112, 121, 145, 145, 145, 145, 221],\n",
    "            'item_id': [417283, 849734, 132223, 573943, 19475, 3294095, 382043, 302948, 103845, 100132],\n",
    "            'price': [13900, 5330, 38200, 49990, 9890, 33000, 67500, 34500, 89900, 11400]\n",
    "        })\n",
    "\n",
    "# Введите свое решение ниже\n",
    "# Объединение таблиц по столбцу 'item_id'\n",
    "merged = pd.merge(items_df, purchase_df, on='item_id', how='inner')\n",
    "\n",
    "# Рассчет суммарной выручки\n",
    "income = (merged['stock_count'] * merged['price']).sum()\n",
    "\n",
    "print(income)"
   ]
  }
 ],
 "metadata": {
  "kernelspec": {
   "display_name": "Python 3",
   "language": "python",
   "name": "python3"
  },
  "language_info": {
   "codemirror_mode": {
    "name": "ipython",
    "version": 3
   },
   "file_extension": ".py",
   "mimetype": "text/x-python",
   "name": "python",
   "nbconvert_exporter": "python",
   "pygments_lexer": "ipython3",
   "version": "3.9.10"
  }
 },
 "nbformat": 4,
 "nbformat_minor": 2
}
