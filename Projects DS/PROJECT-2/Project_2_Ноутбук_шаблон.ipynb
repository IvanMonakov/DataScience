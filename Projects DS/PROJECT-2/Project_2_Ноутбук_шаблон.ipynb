{
  "cells": [
    {
      "cell_type": "markdown",
      "id": "42289889-bd57-434e-9637-d3e354756316",
      "metadata": {
        "id": "42289889-bd57-434e-9637-d3e354756316"
      },
      "source": [
        "<center> <img src = https://raw.githubusercontent.com/AndreyRysistov/DatasetsForPandas/main/hh%20label.jpg alt=\"drawing\" style=\"width:400px;\">"
      ]
    },
    {
      "cell_type": "markdown",
      "id": "829cb75b-f14e-4ba8-9195-7ba929a7d656",
      "metadata": {
        "id": "829cb75b-f14e-4ba8-9195-7ba929a7d656",
        "tags": []
      },
      "source": [
        "# <center> Проект: Анализ вакансий из HeadHunter\n",
        "   "
      ]
    },
    {
      "cell_type": "code",
      "execution_count": 1,
      "id": "dccfde33-2452-43fb-a8a5-5c6ebc02a71d",
      "metadata": {
        "id": "dccfde33-2452-43fb-a8a5-5c6ebc02a71d"
      },
      "outputs": [],
      "source": [
        "import pandas as pd\n",
        "import psycopg2"
      ]
    },
    {
      "cell_type": "code",
      "execution_count": 2,
      "id": "oVKH4ehvf8Ay",
      "metadata": {
        "id": "oVKH4ehvf8Ay"
      },
      "outputs": [],
      "source": [
        "# вставьте сюда параметры подключения из юнита 1. Работа с базой данных из Python \n",
        "DBNAME = 'project_sql'\n",
        "USER = 'skillfactory'\n",
        "PASSWORD = 'cCkxxLVrDE8EbvjueeMedPKt'\n",
        "HOST = '84.201.134.129'\n",
        "PORT = 5432"
      ]
    },
    {
      "cell_type": "code",
      "execution_count": 3,
      "id": "G4X_q8KBf7SF",
      "metadata": {
        "id": "G4X_q8KBf7SF"
      },
      "outputs": [],
      "source": [
        "connection = psycopg2.connect(\n",
        "    dbname=DBNAME,\n",
        "    user=USER,\n",
        "    host=HOST,\n",
        "    password=PASSWORD,\n",
        "    port=PORT\n",
        ")"
      ]
    },
    {
      "cell_type": "markdown",
      "id": "0dc6476b-7a00-44f1-ac93-6e3baed33a29",
      "metadata": {
        "id": "0dc6476b-7a00-44f1-ac93-6e3baed33a29"
      },
      "source": [
        "# Юнит 3. Предварительный анализ данных"
      ]
    },
    {
      "cell_type": "markdown",
      "id": "889782b6-8d1c-410e-8920-e57f27917c64",
      "metadata": {
        "id": "889782b6-8d1c-410e-8920-e57f27917c64"
      },
      "source": [
        "1. Напишите запрос, который посчитает количество вакансий в нашей базе (вакансии находятся в таблице vacancies). "
      ]
    },
    {
      "cell_type": "code",
      "execution_count": 4,
      "id": "bc39e68e-ed02-4ee2-9235-7258a2f867a8",
      "metadata": {
        "id": "bc39e68e-ed02-4ee2-9235-7258a2f867a8"
      },
      "outputs": [],
      "source": [
        "# текст запроса\n",
        "query_3_1 = f'''SELECT\n",
        "                COUNT(*) as vacancies\n",
        "                FROM vacancies v\n",
        "                '''    \n",
        "\n",
        "\n"
      ]
    },
    {
      "cell_type": "code",
      "execution_count": 5,
      "id": "7mAwtsk4hEHY",
      "metadata": {
        "id": "7mAwtsk4hEHY"
      },
      "outputs": [
        {
          "name": "stderr",
          "output_type": "stream",
          "text": [
            "C:\\Users\\monak\\AppData\\Local\\Temp\\ipykernel_16532\\2477442469.py:1: UserWarning: pandas only supports SQLAlchemy connectable (engine/connection) or database string URI or sqlite3 DBAPI2 connection. Other DBAPI2 objects are not tested. Please consider using SQLAlchemy.\n",
            "  df = pd.read_sql_query(query_3_1, connection)\n"
          ]
        },
        {
          "data": {
            "text/html": [
              "<div>\n",
              "<style scoped>\n",
              "    .dataframe tbody tr th:only-of-type {\n",
              "        vertical-align: middle;\n",
              "    }\n",
              "\n",
              "    .dataframe tbody tr th {\n",
              "        vertical-align: top;\n",
              "    }\n",
              "\n",
              "    .dataframe thead th {\n",
              "        text-align: right;\n",
              "    }\n",
              "</style>\n",
              "<table border=\"1\" class=\"dataframe\">\n",
              "  <thead>\n",
              "    <tr style=\"text-align: right;\">\n",
              "      <th></th>\n",
              "      <th>vacancies</th>\n",
              "    </tr>\n",
              "  </thead>\n",
              "  <tbody>\n",
              "    <tr>\n",
              "      <th>0</th>\n",
              "      <td>49197</td>\n",
              "    </tr>\n",
              "  </tbody>\n",
              "</table>\n",
              "</div>"
            ],
            "text/plain": [
              "   vacancies\n",
              "0      49197"
            ]
          },
          "metadata": {},
          "output_type": "display_data"
        }
      ],
      "source": [
        "\n",
        "df = pd.read_sql_query(query_3_1, connection) \n",
        "display(df)"
      ]
    },
    {
      "cell_type": "markdown",
      "id": "b583485d-1f9e-494e-ada4-80ffff7c53d6",
      "metadata": {
        "id": "b583485d-1f9e-494e-ada4-80ffff7c53d6"
      },
      "source": [
        "2. Напишите запрос, который посчитает количество работодателей (таблица employers). "
      ]
    },
    {
      "cell_type": "code",
      "execution_count": 6,
      "id": "5408c52c-3407-4a63-b25b-1aafa2322d28",
      "metadata": {
        "id": "5408c52c-3407-4a63-b25b-1aafa2322d28"
      },
      "outputs": [],
      "source": [
        "# текст запроса\n",
        "empl = f'''SELECT\n",
        "           COUNT(*) as employers\n",
        "           FROM employers e\n",
        "           '''     "
      ]
    },
    {
      "cell_type": "code",
      "execution_count": 7,
      "id": "jVL4eshKhdqc",
      "metadata": {
        "id": "jVL4eshKhdqc"
      },
      "outputs": [
        {
          "name": "stderr",
          "output_type": "stream",
          "text": [
            "C:\\Users\\monak\\AppData\\Local\\Temp\\ipykernel_16532\\2801831759.py:2: UserWarning: pandas only supports SQLAlchemy connectable (engine/connection) or database string URI or sqlite3 DBAPI2 connection. Other DBAPI2 objects are not tested. Please consider using SQLAlchemy.\n",
            "  empl_df = pd.read_sql_query(empl, connection)\n"
          ]
        },
        {
          "data": {
            "text/html": [
              "<div>\n",
              "<style scoped>\n",
              "    .dataframe tbody tr th:only-of-type {\n",
              "        vertical-align: middle;\n",
              "    }\n",
              "\n",
              "    .dataframe tbody tr th {\n",
              "        vertical-align: top;\n",
              "    }\n",
              "\n",
              "    .dataframe thead th {\n",
              "        text-align: right;\n",
              "    }\n",
              "</style>\n",
              "<table border=\"1\" class=\"dataframe\">\n",
              "  <thead>\n",
              "    <tr style=\"text-align: right;\">\n",
              "      <th></th>\n",
              "      <th>employers</th>\n",
              "    </tr>\n",
              "  </thead>\n",
              "  <tbody>\n",
              "    <tr>\n",
              "      <th>0</th>\n",
              "      <td>23501</td>\n",
              "    </tr>\n",
              "  </tbody>\n",
              "</table>\n",
              "</div>"
            ],
            "text/plain": [
              "   employers\n",
              "0      23501"
            ]
          },
          "metadata": {},
          "output_type": "display_data"
        }
      ],
      "source": [
        "# результат запроса\n",
        "empl_df = pd.read_sql_query(empl, connection)\n",
        "display(empl_df)"
      ]
    },
    {
      "cell_type": "markdown",
      "id": "a2bfff1f-c975-4bf6-84be-2185d79dcb76",
      "metadata": {
        "id": "a2bfff1f-c975-4bf6-84be-2185d79dcb76"
      },
      "source": [
        "3. Посчитате с помощью запроса количество регионов (таблица areas)."
      ]
    },
    {
      "cell_type": "code",
      "execution_count": 8,
      "id": "1m8QJwBYhey6",
      "metadata": {
        "id": "1m8QJwBYhey6"
      },
      "outputs": [],
      "source": [
        "# текст запроса\n",
        "count_areas = f'''SELECT\n",
        "                  COUNT(*) as areas\n",
        "                  FROM areas a \n",
        "                  '''"
      ]
    },
    {
      "cell_type": "code",
      "execution_count": 9,
      "id": "EZsn9tlfhe7f",
      "metadata": {
        "id": "EZsn9tlfhe7f"
      },
      "outputs": [
        {
          "name": "stderr",
          "output_type": "stream",
          "text": [
            "C:\\Users\\monak\\AppData\\Local\\Temp\\ipykernel_16532\\2608473996.py:2: UserWarning: pandas only supports SQLAlchemy connectable (engine/connection) or database string URI or sqlite3 DBAPI2 connection. Other DBAPI2 objects are not tested. Please consider using SQLAlchemy.\n",
            "  areas_df = pd.read_sql_query(count_areas, connection)\n"
          ]
        },
        {
          "data": {
            "text/html": [
              "<div>\n",
              "<style scoped>\n",
              "    .dataframe tbody tr th:only-of-type {\n",
              "        vertical-align: middle;\n",
              "    }\n",
              "\n",
              "    .dataframe tbody tr th {\n",
              "        vertical-align: top;\n",
              "    }\n",
              "\n",
              "    .dataframe thead th {\n",
              "        text-align: right;\n",
              "    }\n",
              "</style>\n",
              "<table border=\"1\" class=\"dataframe\">\n",
              "  <thead>\n",
              "    <tr style=\"text-align: right;\">\n",
              "      <th></th>\n",
              "      <th>areas</th>\n",
              "    </tr>\n",
              "  </thead>\n",
              "  <tbody>\n",
              "    <tr>\n",
              "      <th>0</th>\n",
              "      <td>1362</td>\n",
              "    </tr>\n",
              "  </tbody>\n",
              "</table>\n",
              "</div>"
            ],
            "text/plain": [
              "   areas\n",
              "0   1362"
            ]
          },
          "metadata": {},
          "output_type": "display_data"
        }
      ],
      "source": [
        "# результат запроса\n",
        "areas_df = pd.read_sql_query(count_areas, connection)\n",
        "display(areas_df)"
      ]
    },
    {
      "cell_type": "markdown",
      "id": "41bb59f3-53cc-4a67-a5bc-bedf573955e4",
      "metadata": {
        "id": "41bb59f3-53cc-4a67-a5bc-bedf573955e4"
      },
      "source": [
        "4. Посчитате с помощью запроса количество сфер деятельности в базе (таблица industries)."
      ]
    },
    {
      "cell_type": "code",
      "execution_count": 10,
      "id": "d286cf4c-707b-4cd2-9190-7ab3587d04a1",
      "metadata": {
        "id": "d286cf4c-707b-4cd2-9190-7ab3587d04a1"
      },
      "outputs": [],
      "source": [
        "# текст запроса\n",
        "count_industries = f'''SELECT\n",
        "                       COUNT(*) as industr_count\n",
        "                       FROM industries i\n",
        "                       ''' "
      ]
    },
    {
      "cell_type": "code",
      "execution_count": 11,
      "id": "JYAaoZ4qhfzW",
      "metadata": {
        "id": "JYAaoZ4qhfzW"
      },
      "outputs": [
        {
          "name": "stderr",
          "output_type": "stream",
          "text": [
            "C:\\Users\\monak\\AppData\\Local\\Temp\\ipykernel_16532\\315854880.py:2: UserWarning: pandas only supports SQLAlchemy connectable (engine/connection) or database string URI or sqlite3 DBAPI2 connection. Other DBAPI2 objects are not tested. Please consider using SQLAlchemy.\n",
            "  industries_df = pd.read_sql_query(count_industries, connection)\n"
          ]
        },
        {
          "data": {
            "text/html": [
              "<div>\n",
              "<style scoped>\n",
              "    .dataframe tbody tr th:only-of-type {\n",
              "        vertical-align: middle;\n",
              "    }\n",
              "\n",
              "    .dataframe tbody tr th {\n",
              "        vertical-align: top;\n",
              "    }\n",
              "\n",
              "    .dataframe thead th {\n",
              "        text-align: right;\n",
              "    }\n",
              "</style>\n",
              "<table border=\"1\" class=\"dataframe\">\n",
              "  <thead>\n",
              "    <tr style=\"text-align: right;\">\n",
              "      <th></th>\n",
              "      <th>industr_count</th>\n",
              "    </tr>\n",
              "  </thead>\n",
              "  <tbody>\n",
              "    <tr>\n",
              "      <th>0</th>\n",
              "      <td>294</td>\n",
              "    </tr>\n",
              "  </tbody>\n",
              "</table>\n",
              "</div>"
            ],
            "text/plain": [
              "   industr_count\n",
              "0            294"
            ]
          },
          "metadata": {},
          "output_type": "display_data"
        }
      ],
      "source": [
        "# результат запроса\n",
        "industries_df = pd.read_sql_query(count_industries, connection)\n",
        "display(industries_df)"
      ]
    },
    {
      "cell_type": "markdown",
      "id": "9a8a2181-6914-448b-85f1-38f5f18b8a93",
      "metadata": {
        "id": "9a8a2181-6914-448b-85f1-38f5f18b8a93"
      },
      "source": [
        "***"
      ]
    },
    {
      "cell_type": "markdown",
      "id": "7c2054e9",
      "metadata": {},
      "source": [
        "### выводы по предварительному анализу данных\n",
        "- Количество вакансий 49197.\n",
        "- Количество работодателей 23501.\n",
        "- Количество регионов 1362.\n",
        "- Количество отраслей 294.\n",
        "\n",
        "В среднем количество вакансий в два раза больше чем количество работодателей, что может указывать на повышенный спрос на рабочую силу (в среднем каждый работодатель нуждается в двух дополнительных работниках).\n",
        "\n",
        "Количество регионов вызывает вопросы: что подразумивается под этим критерием? На данный момент в России насчитывается 89 различных региона, но никак не 1362. Данная категрия подлежит изучению: имеются ли повторения, все ли перечисленные регионы пренадлежат к России, подразумеваются под термином регионы города милионники и т.п.\n",
        "\n",
        "Количество отрослей не вызывает вопросов. Можно сделать грубую крикидку средней нехватки работников в каждой отрасли: 49197/294=~167. Данная цифра ничего конкретного нам не говорит, кроме большой нехватки работников."
      ]
    },
    {
      "cell_type": "markdown",
      "id": "8d62a9f3-f64e-4fe7-bdac-c4dffa16155e",
      "metadata": {
        "id": "8d62a9f3-f64e-4fe7-bdac-c4dffa16155e"
      },
      "source": [
        "# Юнит 4. Детальный анализ вакансий"
      ]
    },
    {
      "cell_type": "markdown",
      "id": "93053d3d-b284-481a-9cf7-012d7014c0e0",
      "metadata": {
        "id": "93053d3d-b284-481a-9cf7-012d7014c0e0"
      },
      "source": [
        "1. Напишите запрос, который позволит узнать, сколько (cnt) вакансий в каждом регионе (area).\n",
        "Отсортируйте по количеству вакансий в порядке убывания."
      ]
    },
    {
      "cell_type": "code",
      "execution_count": 12,
      "id": "3f069da6-fdc9-4ae7-b514-fafe2675efd3",
      "metadata": {
        "id": "3f069da6-fdc9-4ae7-b514-fafe2675efd3"
      },
      "outputs": [],
      "source": [
        "# текст запроса\n",
        "top_vacancies_area = f'''\n",
        "SELECT\n",
        "    COUNT(v.id) as cnt,          -- Считает количество вакансий в каждой области (регионе) и присваивает этому значению псевдоним `cnt`.\n",
        "    a.name as area               -- Извлекает название области (региона) и присваивает этому значению псевдоним `area`.\n",
        "FROM \n",
        "    vacancies v                  -- Осуществляет выборку данных из таблицы `vacancies`, представляющей вакансии.\n",
        "JOIN \n",
        "    areas a ON v.area_id = a.id  -- Выполняет соединение с таблицей `areas` по полю `area_id`, чтобы получить название региона, соответствующее каждой вакансии.\n",
        "GROUP BY \n",
        "    a.name                       -- Группирует результаты по названию региона, чтобы получить количество вакансий для каждого региона.\n",
        "ORDER BY \n",
        "    cnt DESC                     -- Сортирует результаты по количеству вакансий в убывающем порядке, чтобы на первом месте были регионы с наибольшим количеством вакансий.\n",
        "LIMIT 5                          -- Ограничивает результат выборки пятью регионами, имеющими наибольшее количество вакансий.\n",
        "'''\n"
      ]
    },
    {
      "cell_type": "code",
      "execution_count": 13,
      "id": "P7QL86hrjhRJ",
      "metadata": {
        "id": "P7QL86hrjhRJ"
      },
      "outputs": [
        {
          "name": "stderr",
          "output_type": "stream",
          "text": [
            "C:\\Users\\monak\\AppData\\Local\\Temp\\ipykernel_16532\\454989031.py:2: UserWarning: pandas only supports SQLAlchemy connectable (engine/connection) or database string URI or sqlite3 DBAPI2 connection. Other DBAPI2 objects are not tested. Please consider using SQLAlchemy.\n",
            "  top_vacancies_area_df = pd.read_sql_query(top_vacancies_area, connection)\n"
          ]
        },
        {
          "data": {
            "text/html": [
              "<div>\n",
              "<style scoped>\n",
              "    .dataframe tbody tr th:only-of-type {\n",
              "        vertical-align: middle;\n",
              "    }\n",
              "\n",
              "    .dataframe tbody tr th {\n",
              "        vertical-align: top;\n",
              "    }\n",
              "\n",
              "    .dataframe thead th {\n",
              "        text-align: right;\n",
              "    }\n",
              "</style>\n",
              "<table border=\"1\" class=\"dataframe\">\n",
              "  <thead>\n",
              "    <tr style=\"text-align: right;\">\n",
              "      <th></th>\n",
              "      <th>cnt</th>\n",
              "      <th>area</th>\n",
              "    </tr>\n",
              "  </thead>\n",
              "  <tbody>\n",
              "    <tr>\n",
              "      <th>0</th>\n",
              "      <td>5333</td>\n",
              "      <td>Москва</td>\n",
              "    </tr>\n",
              "    <tr>\n",
              "      <th>1</th>\n",
              "      <td>2851</td>\n",
              "      <td>Санкт-Петербург</td>\n",
              "    </tr>\n",
              "    <tr>\n",
              "      <th>2</th>\n",
              "      <td>2112</td>\n",
              "      <td>Минск</td>\n",
              "    </tr>\n",
              "    <tr>\n",
              "      <th>3</th>\n",
              "      <td>2006</td>\n",
              "      <td>Новосибирск</td>\n",
              "    </tr>\n",
              "    <tr>\n",
              "      <th>4</th>\n",
              "      <td>1892</td>\n",
              "      <td>Алматы</td>\n",
              "    </tr>\n",
              "  </tbody>\n",
              "</table>\n",
              "</div>"
            ],
            "text/plain": [
              "    cnt             area\n",
              "0  5333           Москва\n",
              "1  2851  Санкт-Петербург\n",
              "2  2112            Минск\n",
              "3  2006      Новосибирск\n",
              "4  1892           Алматы"
            ]
          },
          "metadata": {},
          "output_type": "display_data"
        }
      ],
      "source": [
        "# результат запроса\n",
        "top_vacancies_area_df = pd.read_sql_query(top_vacancies_area, connection)\n",
        "display(top_vacancies_area_df)"
      ]
    },
    {
      "cell_type": "markdown",
      "id": "4266f0b6-1646-492a-88b4-2f6a46502135",
      "metadata": {
        "id": "4266f0b6-1646-492a-88b4-2f6a46502135"
      },
      "source": [
        "2. Напишите запрос, чтобы определить у какого количества вакансий заполнено хотя бы одно из двух полей с зарплатой."
      ]
    },
    {
      "cell_type": "code",
      "execution_count": 14,
      "id": "0c44b350-72eb-4d65-8b54-a1fc449ba9fd",
      "metadata": {
        "id": "0c44b350-72eb-4d65-8b54-a1fc449ba9fd"
      },
      "outputs": [],
      "source": [
        "# текст запроса\n",
        "vacancies_with_salary = f'''SELECT\n",
        "                                COUNT(v.id)\n",
        "                            FROM \n",
        "                                vacancies v\n",
        "                            WHERE \n",
        "                                v.salary_from IS NOT NULL OR v.salary_to IS NOT NULL\n",
        "                            '''"
      ]
    },
    {
      "cell_type": "code",
      "execution_count": 15,
      "id": "rhvwaMDkoWTi",
      "metadata": {
        "id": "rhvwaMDkoWTi"
      },
      "outputs": [
        {
          "name": "stderr",
          "output_type": "stream",
          "text": [
            "C:\\Users\\monak\\AppData\\Local\\Temp\\ipykernel_16532\\3298181002.py:2: UserWarning: pandas only supports SQLAlchemy connectable (engine/connection) or database string URI or sqlite3 DBAPI2 connection. Other DBAPI2 objects are not tested. Please consider using SQLAlchemy.\n",
            "  vacancies_with_salary_df = pd.read_sql_query(vacancies_with_salary, connection)\n"
          ]
        },
        {
          "data": {
            "text/html": [
              "<div>\n",
              "<style scoped>\n",
              "    .dataframe tbody tr th:only-of-type {\n",
              "        vertical-align: middle;\n",
              "    }\n",
              "\n",
              "    .dataframe tbody tr th {\n",
              "        vertical-align: top;\n",
              "    }\n",
              "\n",
              "    .dataframe thead th {\n",
              "        text-align: right;\n",
              "    }\n",
              "</style>\n",
              "<table border=\"1\" class=\"dataframe\">\n",
              "  <thead>\n",
              "    <tr style=\"text-align: right;\">\n",
              "      <th></th>\n",
              "      <th>count</th>\n",
              "    </tr>\n",
              "  </thead>\n",
              "  <tbody>\n",
              "    <tr>\n",
              "      <th>0</th>\n",
              "      <td>24073</td>\n",
              "    </tr>\n",
              "  </tbody>\n",
              "</table>\n",
              "</div>"
            ],
            "text/plain": [
              "   count\n",
              "0  24073"
            ]
          },
          "metadata": {},
          "output_type": "display_data"
        }
      ],
      "source": [
        "# результат запроса\n",
        "vacancies_with_salary_df = pd.read_sql_query(vacancies_with_salary, connection)\n",
        "display(vacancies_with_salary_df)"
      ]
    },
    {
      "cell_type": "markdown",
      "id": "635c4d5d-f323-4c66-b428-50a088120aa0",
      "metadata": {
        "id": "635c4d5d-f323-4c66-b428-50a088120aa0"
      },
      "source": [
        "3. Найдите средние значения для нижней и верхней границы зарплатной вилки. Округлите значения до целого."
      ]
    },
    {
      "cell_type": "code",
      "execution_count": 16,
      "id": "603cdbe4-0ec3-4106-8eaf-c73fcdd29165",
      "metadata": {
        "id": "603cdbe4-0ec3-4106-8eaf-c73fcdd29165"
      },
      "outputs": [],
      "source": [
        "# текст запроса\n",
        "average_salaries = f'''\n",
        "                        SELECT\n",
        "                            ROUND(AVG(v.salary_from)) as avg_salary_from,\n",
        "                            ROUND(AVG(v.salary_to)) as avg_salary_to\n",
        "                        FROM \n",
        "                            vacancies v\n",
        "                        WHERE \n",
        "                            v.salary_from IS NOT NULL OR v.salary_to IS NOT NULL\n",
        "                    '''\n"
      ]
    },
    {
      "cell_type": "code",
      "execution_count": 17,
      "id": "pswpAb66ovZZ",
      "metadata": {
        "id": "pswpAb66ovZZ"
      },
      "outputs": [
        {
          "name": "stderr",
          "output_type": "stream",
          "text": [
            "C:\\Users\\monak\\AppData\\Local\\Temp\\ipykernel_16532\\2434390514.py:2: UserWarning: pandas only supports SQLAlchemy connectable (engine/connection) or database string URI or sqlite3 DBAPI2 connection. Other DBAPI2 objects are not tested. Please consider using SQLAlchemy.\n",
            "  average_salaries_df = pd.read_sql_query(average_salaries, connection)\n"
          ]
        },
        {
          "data": {
            "text/html": [
              "<div>\n",
              "<style scoped>\n",
              "    .dataframe tbody tr th:only-of-type {\n",
              "        vertical-align: middle;\n",
              "    }\n",
              "\n",
              "    .dataframe tbody tr th {\n",
              "        vertical-align: top;\n",
              "    }\n",
              "\n",
              "    .dataframe thead th {\n",
              "        text-align: right;\n",
              "    }\n",
              "</style>\n",
              "<table border=\"1\" class=\"dataframe\">\n",
              "  <thead>\n",
              "    <tr style=\"text-align: right;\">\n",
              "      <th></th>\n",
              "      <th>avg_salary_from</th>\n",
              "      <th>avg_salary_to</th>\n",
              "    </tr>\n",
              "  </thead>\n",
              "  <tbody>\n",
              "    <tr>\n",
              "      <th>0</th>\n",
              "      <td>71065.0</td>\n",
              "      <td>110537.0</td>\n",
              "    </tr>\n",
              "  </tbody>\n",
              "</table>\n",
              "</div>"
            ],
            "text/plain": [
              "   avg_salary_from  avg_salary_to\n",
              "0          71065.0       110537.0"
            ]
          },
          "metadata": {},
          "output_type": "display_data"
        }
      ],
      "source": [
        "# результат запроса\n",
        "average_salaries_df = pd.read_sql_query(average_salaries, connection)\n",
        "display(average_salaries_df)"
      ]
    },
    {
      "cell_type": "markdown",
      "id": "f3fdaec9-5fd3-4260-9cf5-1d7406b628a5",
      "metadata": {
        "id": "f3fdaec9-5fd3-4260-9cf5-1d7406b628a5"
      },
      "source": [
        "4. Напишите запрос, который выведет количество вакансий для каждого сочетания типа рабочего графика (schedule) и типа трудоустройства (employment), используемого в вакансиях. Результат отсортируйте по убыванию количества.\n"
      ]
    },
    {
      "cell_type": "code",
      "execution_count": 18,
      "id": "1ea710ec-871b-431e-9462-c7d0fd87011b",
      "metadata": {
        "id": "1ea710ec-871b-431e-9462-c7d0fd87011b"
      },
      "outputs": [],
      "source": [
        "# текст запроса\n",
        "type_sched_empl = f''' SELECT\n",
        "                            v.schedule,\n",
        "                            v.employment,\n",
        "                            COUNT(v.id) as vacancy_cnt\n",
        "                       FROM\n",
        "                            vacancies v\n",
        "                       GROUP BY \n",
        "                            v.schedule,\n",
        "                            v.employment\n",
        "                       ORDER BY\n",
        "                            vacancy_cnt DESC\n",
        "                       LIMIT 5    \n",
        "                       '''"
      ]
    },
    {
      "cell_type": "code",
      "execution_count": 19,
      "id": "lGUVqavdo4JQ",
      "metadata": {
        "id": "lGUVqavdo4JQ"
      },
      "outputs": [
        {
          "name": "stderr",
          "output_type": "stream",
          "text": [
            "C:\\Users\\monak\\AppData\\Local\\Temp\\ipykernel_16532\\3315839041.py:2: UserWarning: pandas only supports SQLAlchemy connectable (engine/connection) or database string URI or sqlite3 DBAPI2 connection. Other DBAPI2 objects are not tested. Please consider using SQLAlchemy.\n",
            "  type_sched_empl_df = pd.read_sql_query(type_sched_empl, connection)\n"
          ]
        },
        {
          "data": {
            "text/html": [
              "<div>\n",
              "<style scoped>\n",
              "    .dataframe tbody tr th:only-of-type {\n",
              "        vertical-align: middle;\n",
              "    }\n",
              "\n",
              "    .dataframe tbody tr th {\n",
              "        vertical-align: top;\n",
              "    }\n",
              "\n",
              "    .dataframe thead th {\n",
              "        text-align: right;\n",
              "    }\n",
              "</style>\n",
              "<table border=\"1\" class=\"dataframe\">\n",
              "  <thead>\n",
              "    <tr style=\"text-align: right;\">\n",
              "      <th></th>\n",
              "      <th>schedule</th>\n",
              "      <th>employment</th>\n",
              "      <th>vacancy_cnt</th>\n",
              "    </tr>\n",
              "  </thead>\n",
              "  <tbody>\n",
              "    <tr>\n",
              "      <th>0</th>\n",
              "      <td>Полный день</td>\n",
              "      <td>Полная занятость</td>\n",
              "      <td>35367</td>\n",
              "    </tr>\n",
              "    <tr>\n",
              "      <th>1</th>\n",
              "      <td>Удаленная работа</td>\n",
              "      <td>Полная занятость</td>\n",
              "      <td>7802</td>\n",
              "    </tr>\n",
              "    <tr>\n",
              "      <th>2</th>\n",
              "      <td>Гибкий график</td>\n",
              "      <td>Полная занятость</td>\n",
              "      <td>1593</td>\n",
              "    </tr>\n",
              "    <tr>\n",
              "      <th>3</th>\n",
              "      <td>Удаленная работа</td>\n",
              "      <td>Частичная занятость</td>\n",
              "      <td>1312</td>\n",
              "    </tr>\n",
              "    <tr>\n",
              "      <th>4</th>\n",
              "      <td>Сменный график</td>\n",
              "      <td>Полная занятость</td>\n",
              "      <td>940</td>\n",
              "    </tr>\n",
              "  </tbody>\n",
              "</table>\n",
              "</div>"
            ],
            "text/plain": [
              "           schedule           employment  vacancy_cnt\n",
              "0       Полный день     Полная занятость        35367\n",
              "1  Удаленная работа     Полная занятость         7802\n",
              "2     Гибкий график     Полная занятость         1593\n",
              "3  Удаленная работа  Частичная занятость         1312\n",
              "4    Сменный график     Полная занятость          940"
            ]
          },
          "metadata": {},
          "output_type": "display_data"
        }
      ],
      "source": [
        "# результат запроса\n",
        "type_sched_empl_df = pd.read_sql_query(type_sched_empl, connection)\n",
        "display(type_sched_empl_df)"
      ]
    },
    {
      "cell_type": "markdown",
      "id": "0136ffee-0ead-4a6b-b608-61d1c753a438",
      "metadata": {
        "id": "0136ffee-0ead-4a6b-b608-61d1c753a438"
      },
      "source": [
        "5. Напишите запрос, выводящий значения поля Требуемый опыт работы (experience) в порядке возрастания количества вакансий, в которых указан данный вариант опыта. "
      ]
    },
    {
      "cell_type": "code",
      "execution_count": 20,
      "id": "5b3a8e79-f7ab-4008-b767-12aea3a205ea",
      "metadata": {
        "id": "5b3a8e79-f7ab-4008-b767-12aea3a205ea"
      },
      "outputs": [],
      "source": [
        "# текст запроса\n",
        "needed_experience = f'''SELECT \n",
        "                            v.experience as need_exp,\n",
        "                            COUNT(v.id) as cnt\n",
        "                        FROM\n",
        "                            vacancies v\n",
        "                        GROUP BY\n",
        "                            need_exp\n",
        "                        ORDER BY\n",
        "                            cnt\n",
        "                        '''\n"
      ]
    },
    {
      "cell_type": "code",
      "execution_count": 21,
      "id": "3Is64Y-hpDpq",
      "metadata": {
        "id": "3Is64Y-hpDpq"
      },
      "outputs": [
        {
          "name": "stderr",
          "output_type": "stream",
          "text": [
            "C:\\Users\\monak\\AppData\\Local\\Temp\\ipykernel_16532\\2634175964.py:2: UserWarning: pandas only supports SQLAlchemy connectable (engine/connection) or database string URI or sqlite3 DBAPI2 connection. Other DBAPI2 objects are not tested. Please consider using SQLAlchemy.\n",
            "  needed_experience_df = pd.read_sql_query(needed_experience, connection)\n"
          ]
        },
        {
          "data": {
            "text/html": [
              "<div>\n",
              "<style scoped>\n",
              "    .dataframe tbody tr th:only-of-type {\n",
              "        vertical-align: middle;\n",
              "    }\n",
              "\n",
              "    .dataframe tbody tr th {\n",
              "        vertical-align: top;\n",
              "    }\n",
              "\n",
              "    .dataframe thead th {\n",
              "        text-align: right;\n",
              "    }\n",
              "</style>\n",
              "<table border=\"1\" class=\"dataframe\">\n",
              "  <thead>\n",
              "    <tr style=\"text-align: right;\">\n",
              "      <th></th>\n",
              "      <th>need_exp</th>\n",
              "      <th>cnt</th>\n",
              "    </tr>\n",
              "  </thead>\n",
              "  <tbody>\n",
              "    <tr>\n",
              "      <th>0</th>\n",
              "      <td>Более 6 лет</td>\n",
              "      <td>1337</td>\n",
              "    </tr>\n",
              "    <tr>\n",
              "      <th>1</th>\n",
              "      <td>Нет опыта</td>\n",
              "      <td>7197</td>\n",
              "    </tr>\n",
              "    <tr>\n",
              "      <th>2</th>\n",
              "      <td>От 3 до 6 лет</td>\n",
              "      <td>14511</td>\n",
              "    </tr>\n",
              "    <tr>\n",
              "      <th>3</th>\n",
              "      <td>От 1 года до 3 лет</td>\n",
              "      <td>26152</td>\n",
              "    </tr>\n",
              "  </tbody>\n",
              "</table>\n",
              "</div>"
            ],
            "text/plain": [
              "             need_exp    cnt\n",
              "0         Более 6 лет   1337\n",
              "1           Нет опыта   7197\n",
              "2       От 3 до 6 лет  14511\n",
              "3  От 1 года до 3 лет  26152"
            ]
          },
          "metadata": {},
          "output_type": "display_data"
        }
      ],
      "source": [
        "# результат запроса\n",
        "needed_experience_df = pd.read_sql_query(needed_experience, connection)\n",
        "display(needed_experience_df)"
      ]
    },
    {
      "cell_type": "markdown",
      "id": "oq2b7n1QpIka",
      "metadata": {
        "id": "oq2b7n1QpIka"
      },
      "source": [
        "***"
      ]
    },
    {
      "cell_type": "markdown",
      "id": "e85d9946",
      "metadata": {},
      "source": [
        "# выводы по детальному анализу вакансий\n",
        "1. Топ-5 регионов по количеству вакансий. Ожидаемо в топе оказались крупные города такие как Москва, Санкт-Петербург, Новосибирск для России и Минск, Алматы для ближнего зарубежья. В таком результате нет ничего удивительного, так как крупные областные центры концентрируют в себе индустрию, крупный и малый бизнес, привлекают как работодателей, так и работников.\n",
        "2. Примерно у половины всех вакансий заполнено хотябы одно из двух полей с зарплатой (salary_from, salary_to). Вероятно такие рабочие места будут привлекать больше желающих, так как на вакансиях с неуказанной заработной платой она скорее всего будет подбираться в индивидуальном порядке. Рабочие места с более четкими условиями труда являются более привлекательными для соискателей.\n",
        "3. Среднии значения для \"вилки\" оплаты труда являются суммы 71065 и 110537 рублей что в обоих случаях является довольно высокой суммой. Основываясь на этом можно предположить, что работодателями указывающими в вакансиях размер оплаты труда скорее всего являются крупные работодатели, которые знаю что они хотят от работника и какую сумму готовы за это платить.\n",
        "4. По количеству вакансий ледирует варинт \"Полный день - Полная занятость\" 35367 вакансий, с отставанием в 5 раз по количеству рабочих мест стоит \"Удаленная работа - Полная занятость\" 7802 вакансий, на третем месте с отставанием в 5 раз уже от второго места находится \"Гибкий график - Полная занятость\" 1593 вакансий. Как видно \"Полная занятость\" является лидером во всех вариантах графиков работы. Учитывая что общее количество представленных вакансий 49197, то вакансий с \"Полной занятостью\" порядка 90% из выборки, которые уже в себе делятся три категории (Полный день, Удаленная работа и Гибкий график).\n",
        "5. Вакансий без опыта работы 7197 (около 15%), на такое количество мест могут расчитывать люди без опыта работы, студенты, только что отучившиеся и получившие работу. При построении модели стоит это учитывать. В основном требуется опыт работы до 3 лет и от 3 до 6 лет (около 80%). Опыт работы более 6 лет требуется только для 1337(менее 3%) рабочих мест(скорее всего это руководящие должности или места с повышенной ответственностью)."
      ]
    },
    {
      "cell_type": "markdown",
      "id": "7ea20ab6-04a7-40a0-adec-443a0e5a42c3",
      "metadata": {
        "id": "7ea20ab6-04a7-40a0-adec-443a0e5a42c3"
      },
      "source": [
        "# Юнит 5. Анализ работодателей"
      ]
    },
    {
      "cell_type": "markdown",
      "id": "968aed80-74ef-4ffb-b5bf-c65b84e9caea",
      "metadata": {
        "id": "968aed80-74ef-4ffb-b5bf-c65b84e9caea"
      },
      "source": [
        "1. Напишите запрос, который позволит узнать, какие работодатели находятся на первом и пятом месте по количеству вакансий."
      ]
    },
    {
      "cell_type": "code",
      "execution_count": 22,
      "id": "f2d62796-d400-4ec1-a675-88112739a50e",
      "metadata": {
        "id": "f2d62796-d400-4ec1-a675-88112739a50e"
      },
      "outputs": [],
      "source": [
        "# текст запроса\n",
        "employers_top =  f'''SELECT \n",
        "                            e.name as employer,\n",
        "                            COUNT(v.id) as vac_cnt\n",
        "                        FROM\n",
        "                            vacancies v\n",
        "                        JOIN\n",
        "                            employers e ON v.employer_id = e.id    \n",
        "                        GROUP BY\n",
        "                            employer\n",
        "                        ORDER BY\n",
        "                            vac_cnt DESC\n",
        "                        LIMIT 5    \n",
        "                        '''\n"
      ]
    },
    {
      "cell_type": "code",
      "execution_count": 23,
      "id": "64tOMkAxqkQk",
      "metadata": {
        "id": "64tOMkAxqkQk"
      },
      "outputs": [
        {
          "name": "stderr",
          "output_type": "stream",
          "text": [
            "C:\\Users\\monak\\AppData\\Local\\Temp\\ipykernel_16532\\3258972006.py:2: UserWarning: pandas only supports SQLAlchemy connectable (engine/connection) or database string URI or sqlite3 DBAPI2 connection. Other DBAPI2 objects are not tested. Please consider using SQLAlchemy.\n",
            "  employers_top_df = pd.read_sql_query(employers_top, connection)\n"
          ]
        },
        {
          "data": {
            "text/html": [
              "<div>\n",
              "<style scoped>\n",
              "    .dataframe tbody tr th:only-of-type {\n",
              "        vertical-align: middle;\n",
              "    }\n",
              "\n",
              "    .dataframe tbody tr th {\n",
              "        vertical-align: top;\n",
              "    }\n",
              "\n",
              "    .dataframe thead th {\n",
              "        text-align: right;\n",
              "    }\n",
              "</style>\n",
              "<table border=\"1\" class=\"dataframe\">\n",
              "  <thead>\n",
              "    <tr style=\"text-align: right;\">\n",
              "      <th></th>\n",
              "      <th>employer</th>\n",
              "      <th>vac_cnt</th>\n",
              "    </tr>\n",
              "  </thead>\n",
              "  <tbody>\n",
              "    <tr>\n",
              "      <th>0</th>\n",
              "      <td>Яндекс</td>\n",
              "      <td>1933</td>\n",
              "    </tr>\n",
              "    <tr>\n",
              "      <th>1</th>\n",
              "      <td>Ростелеком</td>\n",
              "      <td>491</td>\n",
              "    </tr>\n",
              "    <tr>\n",
              "      <th>2</th>\n",
              "      <td>Тинькофф</td>\n",
              "      <td>444</td>\n",
              "    </tr>\n",
              "    <tr>\n",
              "      <th>3</th>\n",
              "      <td>СБЕР</td>\n",
              "      <td>428</td>\n",
              "    </tr>\n",
              "    <tr>\n",
              "      <th>4</th>\n",
              "      <td>Газпром нефть</td>\n",
              "      <td>331</td>\n",
              "    </tr>\n",
              "  </tbody>\n",
              "</table>\n",
              "</div>"
            ],
            "text/plain": [
              "        employer  vac_cnt\n",
              "0         Яндекс     1933\n",
              "1     Ростелеком      491\n",
              "2       Тинькофф      444\n",
              "3           СБЕР      428\n",
              "4  Газпром нефть      331"
            ]
          },
          "metadata": {},
          "output_type": "display_data"
        }
      ],
      "source": [
        "# результат запроса\n",
        "employers_top_df = pd.read_sql_query(employers_top, connection)\n",
        "display(employers_top_df)"
      ]
    },
    {
      "cell_type": "markdown",
      "id": "68377cfc-b378-43dc-ab7d-1195abf2c515",
      "metadata": {
        "id": "68377cfc-b378-43dc-ab7d-1195abf2c515"
      },
      "source": [
        "2. Напишите запрос, который для каждого региона выведет количество работодателей и вакансий в нём.\n",
        "Среди регионов, в которых нет вакансий, найдите тот, в котором наибольшее количество работодателей.\n"
      ]
    },
    {
      "cell_type": "code",
      "execution_count": 54,
      "id": "dd7df27a-e3e8-412e-a21a-5d389b71e891",
      "metadata": {
        "id": "dd7df27a-e3e8-412e-a21a-5d389b71e891"
      },
      "outputs": [],
      "source": [
        "# текст запроса\n",
        "\n",
        "top_empl_vac_area = f'''\n",
        "SELECT        \n",
        "    a.name,                      -- Извлекает название региона (области) и присваивает этому значению псевдоним `name`.\n",
        "    COUNT(DISTINCT e.id) cnt_emp,  -- Считает количество уникальных работодателей в регионе, присваивая этому значению псевдоним `cnt_emp`.\n",
        "    COUNT(DISTINCT v.id) cnt_vac  -- Считает количество уникальных вакансий в регионе, присваивая этому значению псевдоним `cnt_vac`.\n",
        "FROM\n",
        "    areas a\n",
        "    LEFT JOIN employers e on a.id = e.area  -- Выполняет левое соединение с таблицей `employers`, чтобы получить работодателей, связанных с каждым регионом.\n",
        "    LEFT JOIN vacancies v on v.area_id = a.id  -- Выполняет левое соединение с таблицей `vacancies`, чтобы получить вакансии, связанные с каждым регионом.\n",
        "WHERE v.id is null               -- Фильтрует результаты, оставляя только те регионы, в которых нет вакансий (`v.id IS NULL`).\n",
        "GROUP BY a.id                    -- Группирует результаты по идентификатору региона, чтобы получить количество работодателей и вакансий для каждого региона.\n",
        "ORDER BY cnt_emp desc            -- Сортирует результаты по количеству работодателей в порядке убывания.\n",
        "LIMIT 5                          -- Ограничивает результат пятью регионами с наибольшим количеством работодателей, но без вакансий.\n",
        "'''\n"
      ]
    },
    {
      "cell_type": "code",
      "execution_count": 55,
      "id": "x1ikWbydrbf6",
      "metadata": {
        "id": "x1ikWbydrbf6"
      },
      "outputs": [
        {
          "name": "stderr",
          "output_type": "stream",
          "text": [
            "C:\\Users\\monak\\AppData\\Local\\Temp\\ipykernel_16532\\1997128923.py:2: UserWarning: pandas only supports SQLAlchemy connectable (engine/connection) or database string URI or sqlite3 DBAPI2 connection. Other DBAPI2 objects are not tested. Please consider using SQLAlchemy.\n",
            "  top_empl_vac_area_df = pd.read_sql_query(top_empl_vac_area, connection)\n"
          ]
        },
        {
          "data": {
            "text/html": [
              "<div>\n",
              "<style scoped>\n",
              "    .dataframe tbody tr th:only-of-type {\n",
              "        vertical-align: middle;\n",
              "    }\n",
              "\n",
              "    .dataframe tbody tr th {\n",
              "        vertical-align: top;\n",
              "    }\n",
              "\n",
              "    .dataframe thead th {\n",
              "        text-align: right;\n",
              "    }\n",
              "</style>\n",
              "<table border=\"1\" class=\"dataframe\">\n",
              "  <thead>\n",
              "    <tr style=\"text-align: right;\">\n",
              "      <th></th>\n",
              "      <th>name</th>\n",
              "      <th>cnt_emp</th>\n",
              "      <th>cnt_vac</th>\n",
              "    </tr>\n",
              "  </thead>\n",
              "  <tbody>\n",
              "    <tr>\n",
              "      <th>0</th>\n",
              "      <td>Россия</td>\n",
              "      <td>410</td>\n",
              "      <td>0</td>\n",
              "    </tr>\n",
              "    <tr>\n",
              "      <th>1</th>\n",
              "      <td>Казахстан</td>\n",
              "      <td>207</td>\n",
              "      <td>0</td>\n",
              "    </tr>\n",
              "    <tr>\n",
              "      <th>2</th>\n",
              "      <td>Московская область</td>\n",
              "      <td>75</td>\n",
              "      <td>0</td>\n",
              "    </tr>\n",
              "    <tr>\n",
              "      <th>3</th>\n",
              "      <td>Краснодарский край</td>\n",
              "      <td>19</td>\n",
              "      <td>0</td>\n",
              "    </tr>\n",
              "    <tr>\n",
              "      <th>4</th>\n",
              "      <td>Беларусь</td>\n",
              "      <td>18</td>\n",
              "      <td>0</td>\n",
              "    </tr>\n",
              "  </tbody>\n",
              "</table>\n",
              "</div>"
            ],
            "text/plain": [
              "                 name  cnt_emp  cnt_vac\n",
              "0              Россия      410        0\n",
              "1           Казахстан      207        0\n",
              "2  Московская область       75        0\n",
              "3  Краснодарский край       19        0\n",
              "4            Беларусь       18        0"
            ]
          },
          "metadata": {},
          "output_type": "display_data"
        }
      ],
      "source": [
        "# результат запроса\n",
        "top_empl_vac_area_df = pd.read_sql_query(top_empl_vac_area, connection)\n",
        "display(top_empl_vac_area_df)"
      ]
    },
    {
      "cell_type": "markdown",
      "id": "f2fe0acb-ab1a-4e15-9326-2560e22d73c1",
      "metadata": {
        "id": "f2fe0acb-ab1a-4e15-9326-2560e22d73c1"
      },
      "source": [
        "3. Для каждого работодателя посчитайте количество регионов, в которых он публикует свои вакансии. Отсортируйте результат по убыванию количества.\n"
      ]
    },
    {
      "cell_type": "code",
      "execution_count": 26,
      "id": "6271f8ad-bd2e-4196-ae4a-5b39c4c1010e",
      "metadata": {
        "id": "6271f8ad-bd2e-4196-ae4a-5b39c4c1010e"
      },
      "outputs": [],
      "source": [
        "# текст запроса\n",
        "vacancies_in_area = f'''\n",
        "SELECT\n",
        "    COUNT(DISTINCT v.area_id) as areas_cnt,\n",
        "    e.name as employer\n",
        "FROM \n",
        "    employers e\n",
        "LEFT JOIN \n",
        "    vacancies v ON v.employer_id = e.id\n",
        "GROUP BY\n",
        "    e.name\n",
        "ORDER BY\n",
        "    areas_cnt DESC\n",
        "\n",
        "'''    "
      ]
    },
    {
      "cell_type": "code",
      "execution_count": 27,
      "id": "1EIvX3HasH4F",
      "metadata": {
        "id": "1EIvX3HasH4F"
      },
      "outputs": [
        {
          "name": "stderr",
          "output_type": "stream",
          "text": [
            "C:\\Users\\monak\\AppData\\Local\\Temp\\ipykernel_16532\\2987991428.py:2: UserWarning: pandas only supports SQLAlchemy connectable (engine/connection) or database string URI or sqlite3 DBAPI2 connection. Other DBAPI2 objects are not tested. Please consider using SQLAlchemy.\n",
            "  vacancies_in_area_df = pd.read_sql_query(vacancies_in_area, connection)\n"
          ]
        },
        {
          "data": {
            "text/html": [
              "<div>\n",
              "<style scoped>\n",
              "    .dataframe tbody tr th:only-of-type {\n",
              "        vertical-align: middle;\n",
              "    }\n",
              "\n",
              "    .dataframe tbody tr th {\n",
              "        vertical-align: top;\n",
              "    }\n",
              "\n",
              "    .dataframe thead th {\n",
              "        text-align: right;\n",
              "    }\n",
              "</style>\n",
              "<table border=\"1\" class=\"dataframe\">\n",
              "  <thead>\n",
              "    <tr style=\"text-align: right;\">\n",
              "      <th></th>\n",
              "      <th>areas_cnt</th>\n",
              "      <th>employer</th>\n",
              "    </tr>\n",
              "  </thead>\n",
              "  <tbody>\n",
              "    <tr>\n",
              "      <th>0</th>\n",
              "      <td>181</td>\n",
              "      <td>Яндекс</td>\n",
              "    </tr>\n",
              "    <tr>\n",
              "      <th>1</th>\n",
              "      <td>152</td>\n",
              "      <td>Ростелеком</td>\n",
              "    </tr>\n",
              "    <tr>\n",
              "      <th>2</th>\n",
              "      <td>116</td>\n",
              "      <td>Спецремонт</td>\n",
              "    </tr>\n",
              "    <tr>\n",
              "      <th>3</th>\n",
              "      <td>88</td>\n",
              "      <td>Поляков Денис Иванович</td>\n",
              "    </tr>\n",
              "    <tr>\n",
              "      <th>4</th>\n",
              "      <td>71</td>\n",
              "      <td>ООО ЕФИН</td>\n",
              "    </tr>\n",
              "    <tr>\n",
              "      <th>...</th>\n",
              "      <td>...</td>\n",
              "      <td>...</td>\n",
              "    </tr>\n",
              "    <tr>\n",
              "      <th>23170</th>\n",
              "      <td>0</td>\n",
              "      <td>СДЕЛКА</td>\n",
              "    </tr>\n",
              "    <tr>\n",
              "      <th>23171</th>\n",
              "      <td>0</td>\n",
              "      <td>Alandr Group</td>\n",
              "    </tr>\n",
              "    <tr>\n",
              "      <th>23172</th>\n",
              "      <td>0</td>\n",
              "      <td>СДК</td>\n",
              "    </tr>\n",
              "    <tr>\n",
              "      <th>23173</th>\n",
              "      <td>0</td>\n",
              "      <td>Lemon Land Lombard</td>\n",
              "    </tr>\n",
              "    <tr>\n",
              "      <th>23174</th>\n",
              "      <td>0</td>\n",
              "      <td>Махина</td>\n",
              "    </tr>\n",
              "  </tbody>\n",
              "</table>\n",
              "<p>23175 rows × 2 columns</p>\n",
              "</div>"
            ],
            "text/plain": [
              "       areas_cnt                employer\n",
              "0            181                  Яндекс\n",
              "1            152              Ростелеком\n",
              "2            116              Спецремонт\n",
              "3             88  Поляков Денис Иванович\n",
              "4             71               ООО ЕФИН \n",
              "...          ...                     ...\n",
              "23170          0                  СДЕЛКА\n",
              "23171          0            Alandr Group\n",
              "23172          0                     СДК\n",
              "23173          0      Lemon Land Lombard\n",
              "23174          0                  Махина\n",
              "\n",
              "[23175 rows x 2 columns]"
            ]
          },
          "metadata": {},
          "output_type": "display_data"
        }
      ],
      "source": [
        "# результат запроса\n",
        "vacancies_in_area_df = pd.read_sql_query(vacancies_in_area, connection)\n",
        "display(vacancies_in_area_df)"
      ]
    },
    {
      "cell_type": "markdown",
      "id": "eab2206d-d95b-468b-8e5f-34381abf0ce7",
      "metadata": {
        "id": "eab2206d-d95b-468b-8e5f-34381abf0ce7"
      },
      "source": [
        "4. Напишите запрос для подсчёта количества работодателей, у которых не указана сфера деятельности. "
      ]
    },
    {
      "cell_type": "code",
      "execution_count": 28,
      "id": "80defb23-bfb1-4a18-8be6-bf36aa7165d5",
      "metadata": {
        "id": "80defb23-bfb1-4a18-8be6-bf36aa7165d5"
      },
      "outputs": [],
      "source": [
        "# текст запроса\n",
        "no_indust_empl = f'''SELECT\n",
        "    COUNT(DISTINCT e.id) AS cnt_employers\n",
        "FROM\n",
        "    employers e\n",
        "LEFT JOIN\n",
        "    employers_industries ei ON e.id = ei.employer_id\n",
        "WHERE\n",
        "    ei.industry_id IS NULL;\n",
        "\n",
        "                        '''\n",
        "    "
      ]
    },
    {
      "cell_type": "code",
      "execution_count": 29,
      "id": "Dp_yCx6ysQSu",
      "metadata": {
        "id": "Dp_yCx6ysQSu"
      },
      "outputs": [
        {
          "name": "stderr",
          "output_type": "stream",
          "text": [
            "C:\\Users\\monak\\AppData\\Local\\Temp\\ipykernel_16532\\1719894510.py:2: UserWarning: pandas only supports SQLAlchemy connectable (engine/connection) or database string URI or sqlite3 DBAPI2 connection. Other DBAPI2 objects are not tested. Please consider using SQLAlchemy.\n",
            "  no_indust_empl_df = pd.read_sql_query(no_indust_empl, connection)\n"
          ]
        },
        {
          "data": {
            "text/html": [
              "<div>\n",
              "<style scoped>\n",
              "    .dataframe tbody tr th:only-of-type {\n",
              "        vertical-align: middle;\n",
              "    }\n",
              "\n",
              "    .dataframe tbody tr th {\n",
              "        vertical-align: top;\n",
              "    }\n",
              "\n",
              "    .dataframe thead th {\n",
              "        text-align: right;\n",
              "    }\n",
              "</style>\n",
              "<table border=\"1\" class=\"dataframe\">\n",
              "  <thead>\n",
              "    <tr style=\"text-align: right;\">\n",
              "      <th></th>\n",
              "      <th>cnt_employers</th>\n",
              "    </tr>\n",
              "  </thead>\n",
              "  <tbody>\n",
              "    <tr>\n",
              "      <th>0</th>\n",
              "      <td>8419</td>\n",
              "    </tr>\n",
              "  </tbody>\n",
              "</table>\n",
              "</div>"
            ],
            "text/plain": [
              "   cnt_employers\n",
              "0           8419"
            ]
          },
          "metadata": {},
          "output_type": "display_data"
        }
      ],
      "source": [
        "# результат запроса\n",
        "no_indust_empl_df = pd.read_sql_query(no_indust_empl, connection)\n",
        "display(no_indust_empl_df)"
      ]
    },
    {
      "cell_type": "markdown",
      "id": "0112af31-f6b0-4e3b-82ab-71296e752e5e",
      "metadata": {
        "id": "0112af31-f6b0-4e3b-82ab-71296e752e5e"
      },
      "source": [
        "5. Напишите запрос, чтобы узнать название компании, находящейся на третьем месте в алфавитном списке (по названию) компаний, у которых указано четыре сферы деятельности. "
      ]
    },
    {
      "cell_type": "code",
      "execution_count": 30,
      "id": "973b0cfc-a972-470a-8b4a-68744ef220c4",
      "metadata": {
        "id": "973b0cfc-a972-470a-8b4a-68744ef220c4"
      },
      "outputs": [],
      "source": [
        "# текст запроса\n",
        "emp_name_four_ind = f'''SELECT \n",
        "                            e.name employer_name,\n",
        "                            COUNT(industry_id) cnt\n",
        "                        FROM \n",
        "                            employers e\n",
        "                        JOIN\n",
        "                            employers_industries i ON e.id = i.employer_id\n",
        "                        GROUP BY \n",
        "                            employer_name\n",
        "                        HAVING \n",
        "                            COUNT(i.industry_id) = 4    \n",
        "                        ORDER BY 1\n",
        "                        LIMIT 3\n",
        "                        '''    \n",
        "                           \n"
      ]
    },
    {
      "cell_type": "code",
      "execution_count": 31,
      "id": "xsPtpp8EsaED",
      "metadata": {
        "id": "xsPtpp8EsaED"
      },
      "outputs": [
        {
          "name": "stderr",
          "output_type": "stream",
          "text": [
            "C:\\Users\\monak\\AppData\\Local\\Temp\\ipykernel_16532\\1941732459.py:2: UserWarning: pandas only supports SQLAlchemy connectable (engine/connection) or database string URI or sqlite3 DBAPI2 connection. Other DBAPI2 objects are not tested. Please consider using SQLAlchemy.\n",
            "  emp_name_four_ind_df = pd.read_sql_query(emp_name_four_ind, connection)\n"
          ]
        },
        {
          "data": {
            "text/html": [
              "<div>\n",
              "<style scoped>\n",
              "    .dataframe tbody tr th:only-of-type {\n",
              "        vertical-align: middle;\n",
              "    }\n",
              "\n",
              "    .dataframe tbody tr th {\n",
              "        vertical-align: top;\n",
              "    }\n",
              "\n",
              "    .dataframe thead th {\n",
              "        text-align: right;\n",
              "    }\n",
              "</style>\n",
              "<table border=\"1\" class=\"dataframe\">\n",
              "  <thead>\n",
              "    <tr style=\"text-align: right;\">\n",
              "      <th></th>\n",
              "      <th>employer_name</th>\n",
              "      <th>cnt</th>\n",
              "    </tr>\n",
              "  </thead>\n",
              "  <tbody>\n",
              "    <tr>\n",
              "      <th>0</th>\n",
              "      <td>101 Интернет</td>\n",
              "      <td>4</td>\n",
              "    </tr>\n",
              "    <tr>\n",
              "      <th>1</th>\n",
              "      <td>21vek.by</td>\n",
              "      <td>4</td>\n",
              "    </tr>\n",
              "    <tr>\n",
              "      <th>2</th>\n",
              "      <td>2ГИС</td>\n",
              "      <td>4</td>\n",
              "    </tr>\n",
              "  </tbody>\n",
              "</table>\n",
              "</div>"
            ],
            "text/plain": [
              "  employer_name  cnt\n",
              "0  101 Интернет    4\n",
              "1      21vek.by    4\n",
              "2          2ГИС    4"
            ]
          },
          "metadata": {},
          "output_type": "display_data"
        }
      ],
      "source": [
        "# результат запроса\n",
        "emp_name_four_ind_df = pd.read_sql_query(emp_name_four_ind, connection)\n",
        "display(emp_name_four_ind_df)"
      ]
    },
    {
      "cell_type": "markdown",
      "id": "3bfcfdaf-755d-4d2b-8ed8-326201dc07ab",
      "metadata": {
        "id": "3bfcfdaf-755d-4d2b-8ed8-326201dc07ab"
      },
      "source": [
        "6. С помощью запроса выясните, у какого количества работодателей в качестве сферы деятельности указана Разработка программного обеспечения.\n"
      ]
    },
    {
      "cell_type": "code",
      "execution_count": 32,
      "id": "ad3f270f-2991-47eb-929b-e8f88a55b0d1",
      "metadata": {
        "id": "ad3f270f-2991-47eb-929b-e8f88a55b0d1"
      },
      "outputs": [],
      "source": [
        "# текст запроса\n",
        "it_employers = f'''SELECT\n",
        "                        COUNT(ei.employer_id) cnt\n",
        "                    FROM\n",
        "                        employers_industries ei\n",
        "                    JOIN\n",
        "                        industries e ON e.id = ei.industry_id\n",
        "                    WHERE\n",
        "                        e.name = 'Разработка программного обеспечения'\n",
        "                    '''                            "
      ]
    },
    {
      "cell_type": "code",
      "execution_count": 33,
      "id": "H72qxWM0shPR",
      "metadata": {
        "id": "H72qxWM0shPR"
      },
      "outputs": [
        {
          "name": "stderr",
          "output_type": "stream",
          "text": [
            "C:\\Users\\monak\\AppData\\Local\\Temp\\ipykernel_16532\\3722539925.py:2: UserWarning: pandas only supports SQLAlchemy connectable (engine/connection) or database string URI or sqlite3 DBAPI2 connection. Other DBAPI2 objects are not tested. Please consider using SQLAlchemy.\n",
            "  it_employers_df = pd.read_sql_query(it_employers, connection)\n"
          ]
        },
        {
          "data": {
            "text/html": [
              "<div>\n",
              "<style scoped>\n",
              "    .dataframe tbody tr th:only-of-type {\n",
              "        vertical-align: middle;\n",
              "    }\n",
              "\n",
              "    .dataframe tbody tr th {\n",
              "        vertical-align: top;\n",
              "    }\n",
              "\n",
              "    .dataframe thead th {\n",
              "        text-align: right;\n",
              "    }\n",
              "</style>\n",
              "<table border=\"1\" class=\"dataframe\">\n",
              "  <thead>\n",
              "    <tr style=\"text-align: right;\">\n",
              "      <th></th>\n",
              "      <th>cnt</th>\n",
              "    </tr>\n",
              "  </thead>\n",
              "  <tbody>\n",
              "    <tr>\n",
              "      <th>0</th>\n",
              "      <td>3553</td>\n",
              "    </tr>\n",
              "  </tbody>\n",
              "</table>\n",
              "</div>"
            ],
            "text/plain": [
              "    cnt\n",
              "0  3553"
            ]
          },
          "metadata": {},
          "output_type": "display_data"
        }
      ],
      "source": [
        "# результат запроса\n",
        "it_employers_df = pd.read_sql_query(it_employers, connection)\n",
        "display(it_employers_df)"
      ]
    },
    {
      "cell_type": "markdown",
      "id": "7b02bb86-0546-40fb-94a4-242f050a5c57",
      "metadata": {
        "id": "7b02bb86-0546-40fb-94a4-242f050a5c57"
      },
      "source": [
        "7. Для компании «Яндекс» выведите список регионов-миллионников, в которых представлены вакансии компании, вместе с количеством вакансий в этих регионах. Также добавьте строку Total с общим количеством вакансий компании. Результат отсортируйте по возрастанию количества.\n",
        "\n",
        "Список городов-милионников надо взять [отсюда](https://ru.wikipedia.org/wiki/%D0%93%D0%BE%D1%80%D0%BE%D0%B4%D0%B0-%D0%BC%D0%B8%D0%BB%D0%BB%D0%B8%D0%BE%D0%BD%D0%B5%D1%80%D1%8B_%D0%A0%D0%BE%D1%81%D1%81%D0%B8%D0%B8). \n",
        "\n",
        "Если возникнут трудности с этим задание посмотрите материалы модуля  PYTHON-17. Как получать данные из веб-источников и API. "
      ]
    },
    {
      "cell_type": "code",
      "execution_count": 34,
      "id": "ZdfrL6gIs1Pn",
      "metadata": {
        "id": "ZdfrL6gIs1Pn"
      },
      "outputs": [
        {
          "name": "stdout",
          "output_type": "stream",
          "text": [
            "['Москва', 'Санкт-Петербург', 'Новосибирск', 'Екатеринбург', 'Казань', 'Красноярск', 'Нижний Новгород', 'Челябинск', 'Уфа', 'Самара', 'Ростов-на-Дону', 'Краснодар', 'Омск', 'Воронеж', 'Пермь', 'Волгоград']\n"
          ]
        }
      ],
      "source": [
        "# код для получения списка городов-милионников\n",
        "import requests\n",
        "from bs4 import BeautifulSoup\n",
        "\n",
        "# URL страницы с городами-миллионниками\n",
        "url = \"https://ru.wikipedia.org/wiki/Города-миллионеры_России\"\n",
        "\n",
        "# Получаем HTML-код страницы\n",
        "response = requests.get(url)\n",
        "html = response.text\n",
        "\n",
        "# Парсим HTML с помощью BeautifulSoup\n",
        "soup = BeautifulSoup(html, 'html.parser')\n",
        "\n",
        "# Находим таблицу с городами-миллионниками\n",
        "table = soup.find('table', {'class': 'standard sortable'})\n",
        "\n",
        "# Извлекаем все строки из таблицы, пропуская заголовок\n",
        "rows = table.find_all('tr')[1:]\n",
        "\n",
        "# Извлекаем названия городов из первой колонки таблицы\n",
        "cities = [row.find_all('td')[1].text.strip() for row in rows]\n",
        "# Преобразование списка городов в строку для SQL-запроса\n",
        "cities_placeholder = ', '.join(f\"'{city}'\" for city in cities)\n",
        "\n",
        "# Выводим результат\n",
        "print(cities)"
      ]
    },
    {
      "cell_type": "code",
      "execution_count": 35,
      "id": "5a0e32a4-e68a-4365-8a39-2fe24c542c36",
      "metadata": {
        "id": "5a0e32a4-e68a-4365-8a39-2fe24c542c36"
      },
      "outputs": [],
      "source": [
        "# текст запроса\n",
        "yandex_vac = f'''\n",
        "WITH temp AS (\n",
        "    -- Создает временную таблицу `temp`, которая агрегирует данные по регионам.\n",
        "    SELECT\n",
        "        a.name AS region,        -- Извлекает название региона (области) и присваивает этому значению псевдоним `region`.\n",
        "        COUNT(*) AS cnt          -- Считает количество вакансий в каждом регионе и присваивает этому значению псевдоним `cnt`.\n",
        "    FROM \n",
        "        vacancies v              -- Осуществляет выборку данных из таблицы `vacancies`, представляющей вакансии.\n",
        "    LEFT JOIN \n",
        "        areas a ON a.id = v.area_id  -- Выполняет левое соединение с таблицей `areas`, чтобы получить название региона для каждой вакансии.\n",
        "    LEFT JOIN \n",
        "        employers e ON e.id = v.employer_id  -- Выполняет левое соединение с таблицей `employers`, чтобы получить работодателя для каждой вакансии.\n",
        "    WHERE \n",
        "        e.name = 'Яндекс'        -- Фильтрует вакансии, оставляя только те, которые относятся к компании \"Яндекс\".\n",
        "        AND a.name IN ({cities_placeholder})  -- Фильтрует вакансии по регионам, указанных в `cities_placeholder` (список регионов передается динамически).\n",
        "    GROUP BY \n",
        "        a.name                   -- Группирует результаты по названию региона, чтобы получить количество вакансий для каждого региона.\n",
        "    ORDER BY \n",
        "        cnt                      -- Сортирует результаты по количеству вакансий (в данной части `ORDER BY` влияет только на группировку в `temp`).\n",
        ")\n",
        "SELECT \n",
        "    region,                      -- Извлекает название региона из временной таблицы `temp`.\n",
        "    cnt                          -- Извлекает количество вакансий для соответствующего региона.\n",
        "FROM \n",
        "    temp\n",
        "UNION ALL\n",
        "SELECT \n",
        "    'Total',                     -- Добавляет строку с текстом \"Total\" (суммарное значение) в колонке региона.\n",
        "    SUM(cnt)                     -- Считает общее количество вакансий для всех регионов, суммируя значения `cnt`.\n",
        "FROM \n",
        "    temp\n",
        "'''\n",
        "               "
      ]
    },
    {
      "cell_type": "code",
      "execution_count": 36,
      "id": "ttPhiO1rsvPq",
      "metadata": {
        "id": "ttPhiO1rsvPq"
      },
      "outputs": [
        {
          "name": "stderr",
          "output_type": "stream",
          "text": [
            "C:\\Users\\monak\\AppData\\Local\\Temp\\ipykernel_16532\\1727464012.py:2: UserWarning: pandas only supports SQLAlchemy connectable (engine/connection) or database string URI or sqlite3 DBAPI2 connection. Other DBAPI2 objects are not tested. Please consider using SQLAlchemy.\n",
            "  yandex_vac_df = pd.read_sql_query(yandex_vac, connection)\n"
          ]
        },
        {
          "data": {
            "text/html": [
              "<div>\n",
              "<style scoped>\n",
              "    .dataframe tbody tr th:only-of-type {\n",
              "        vertical-align: middle;\n",
              "    }\n",
              "\n",
              "    .dataframe tbody tr th {\n",
              "        vertical-align: top;\n",
              "    }\n",
              "\n",
              "    .dataframe thead th {\n",
              "        text-align: right;\n",
              "    }\n",
              "</style>\n",
              "<table border=\"1\" class=\"dataframe\">\n",
              "  <thead>\n",
              "    <tr style=\"text-align: right;\">\n",
              "      <th></th>\n",
              "      <th>region</th>\n",
              "      <th>cnt</th>\n",
              "    </tr>\n",
              "  </thead>\n",
              "  <tbody>\n",
              "    <tr>\n",
              "      <th>0</th>\n",
              "      <td>Омск</td>\n",
              "      <td>21.0</td>\n",
              "    </tr>\n",
              "    <tr>\n",
              "      <th>1</th>\n",
              "      <td>Челябинск</td>\n",
              "      <td>22.0</td>\n",
              "    </tr>\n",
              "    <tr>\n",
              "      <th>2</th>\n",
              "      <td>Красноярск</td>\n",
              "      <td>23.0</td>\n",
              "    </tr>\n",
              "    <tr>\n",
              "      <th>3</th>\n",
              "      <td>Волгоград</td>\n",
              "      <td>24.0</td>\n",
              "    </tr>\n",
              "    <tr>\n",
              "      <th>4</th>\n",
              "      <td>Пермь</td>\n",
              "      <td>25.0</td>\n",
              "    </tr>\n",
              "    <tr>\n",
              "      <th>5</th>\n",
              "      <td>Казань</td>\n",
              "      <td>25.0</td>\n",
              "    </tr>\n",
              "    <tr>\n",
              "      <th>6</th>\n",
              "      <td>Ростов-на-Дону</td>\n",
              "      <td>25.0</td>\n",
              "    </tr>\n",
              "    <tr>\n",
              "      <th>7</th>\n",
              "      <td>Уфа</td>\n",
              "      <td>26.0</td>\n",
              "    </tr>\n",
              "    <tr>\n",
              "      <th>8</th>\n",
              "      <td>Самара</td>\n",
              "      <td>26.0</td>\n",
              "    </tr>\n",
              "    <tr>\n",
              "      <th>9</th>\n",
              "      <td>Краснодар</td>\n",
              "      <td>30.0</td>\n",
              "    </tr>\n",
              "    <tr>\n",
              "      <th>10</th>\n",
              "      <td>Воронеж</td>\n",
              "      <td>32.0</td>\n",
              "    </tr>\n",
              "    <tr>\n",
              "      <th>11</th>\n",
              "      <td>Новосибирск</td>\n",
              "      <td>35.0</td>\n",
              "    </tr>\n",
              "    <tr>\n",
              "      <th>12</th>\n",
              "      <td>Нижний Новгород</td>\n",
              "      <td>36.0</td>\n",
              "    </tr>\n",
              "    <tr>\n",
              "      <th>13</th>\n",
              "      <td>Екатеринбург</td>\n",
              "      <td>39.0</td>\n",
              "    </tr>\n",
              "    <tr>\n",
              "      <th>14</th>\n",
              "      <td>Санкт-Петербург</td>\n",
              "      <td>42.0</td>\n",
              "    </tr>\n",
              "    <tr>\n",
              "      <th>15</th>\n",
              "      <td>Москва</td>\n",
              "      <td>54.0</td>\n",
              "    </tr>\n",
              "    <tr>\n",
              "      <th>16</th>\n",
              "      <td>Total</td>\n",
              "      <td>485.0</td>\n",
              "    </tr>\n",
              "  </tbody>\n",
              "</table>\n",
              "</div>"
            ],
            "text/plain": [
              "             region    cnt\n",
              "0              Омск   21.0\n",
              "1         Челябинск   22.0\n",
              "2        Красноярск   23.0\n",
              "3         Волгоград   24.0\n",
              "4             Пермь   25.0\n",
              "5            Казань   25.0\n",
              "6    Ростов-на-Дону   25.0\n",
              "7               Уфа   26.0\n",
              "8            Самара   26.0\n",
              "9         Краснодар   30.0\n",
              "10          Воронеж   32.0\n",
              "11      Новосибирск   35.0\n",
              "12  Нижний Новгород   36.0\n",
              "13     Екатеринбург   39.0\n",
              "14  Санкт-Петербург   42.0\n",
              "15           Москва   54.0\n",
              "16            Total  485.0"
            ]
          },
          "metadata": {},
          "output_type": "display_data"
        }
      ],
      "source": [
        "# результат запроса\n",
        "yandex_vac_df = pd.read_sql_query(yandex_vac, connection)\n",
        "display(yandex_vac_df)"
      ]
    },
    {
      "cell_type": "markdown",
      "id": "7d8e3c59",
      "metadata": {},
      "source": [
        "# выводы по анализу работодателей\n",
        "1. На первом месте расположился IT гигант Yandex с 1933 вакансиями, а на пятом месте Газпром Нефть с 331 вакансией. Если посмотреть на позиции расположенные между ними то можно заметить, что у Yandex вакансий больше, чем у следующих четырех позиций вместе взятых. Можно предположить что в IT-сфере имеется серьезный недостаток рабочей силы.\n",
        "2. В топе регионов с работодателями и без вакансий расположились Россия\t(410), Казахстан (207), Московская область\t(75), Краснодарский край (19), Беларусь (18). В целом это говорит, что работадатели размещали вакансии в других регионах, но не об отсутствии рабочих мест в данных регионах. Все регионы являются крупными образованиями, которые сами по себе вмещают в себе другие регионы. Вероятнее всего при составлении вакансий работодатель указывал название региона более конкретно. Сфера деятельности компании может распространяться на весь указанный регион, но должность указанная в вакансии может быть связанна с деятельностью по всему региону и поэтому нет необходимости указывать это.\n",
        "3. По количеству регионов с заявками лидерами являются IT гиганты Yandex и Ростелеком (181 и 152 соответственно). На третем месте по количеству регионов организация Спецремонт (116). Четвертое место занимает некто Поляков Денис Иванович (88), пятое ООО ЕФИН (71). Последние две позиции вызывают вопросы. Кто это и кого представляют?\n",
        "4. Количество работодателей не указавших сферу деятельности составляет 8419, что составляет значительную часть(больше трети) от общего числа работодателей 23501. \n",
        "5. У многих компаний указаны несколько сфер деятельности. Обычно такими являются большие компании.\n",
        "6. 3553 компании указали в своих сферах деятельности разработку програмного обеспечения, что является ~15% от общего числа работодателей.\n",
        "7. IT гигант Yandex широко представлен по стране и ведет деятельность во всех городах-милионниках. Только в этих городах имеется порядка 500 вакансий."
      ]
    },
    {
      "cell_type": "markdown",
      "id": "04966e40-3bc3-4dc8-9ba2-e80580ce3abc",
      "metadata": {
        "id": "04966e40-3bc3-4dc8-9ba2-e80580ce3abc"
      },
      "source": [
        "***"
      ]
    },
    {
      "cell_type": "markdown",
      "id": "b1ef156a-efcb-49ce-bb23-90763e7f35b2",
      "metadata": {
        "id": "b1ef156a-efcb-49ce-bb23-90763e7f35b2",
        "tags": []
      },
      "source": [
        "# Юнит 6. Предметный анализ"
      ]
    },
    {
      "cell_type": "markdown",
      "id": "b9cd50a0-992d-4988-8463-2b2b1c4629b4",
      "metadata": {
        "id": "b9cd50a0-992d-4988-8463-2b2b1c4629b4"
      },
      "source": [
        "1. Сколько вакансий имеет отношение к данным?\n",
        "\n",
        "Считаем, что вакансия имеет отношение к данным, если в её названии содержатся слова 'data' или 'данн'.\n",
        "\n",
        "*Подсказка: Обратите внимание, что названия вакансий могут быть написаны в любом регистре.* \n"
      ]
    },
    {
      "cell_type": "code",
      "execution_count": 37,
      "id": "54ab0e50-c0f1-47cc-a54b-bc5c8bc363f9",
      "metadata": {
        "id": "54ab0e50-c0f1-47cc-a54b-bc5c8bc363f9"
      },
      "outputs": [],
      "source": [
        "# текст запроса\n",
        "data_vac = f'''\n",
        "SELECT \n",
        "    COUNT(*)\n",
        "FROM\n",
        "    vacancies v\n",
        "WHERE\n",
        "    LOWER(v.name) LIKE '%data%' OR LOWER(v.name) LIKE '%данн%'\n",
        "'''        "
      ]
    },
    {
      "cell_type": "code",
      "execution_count": 38,
      "id": "9F1meAqsuUjd",
      "metadata": {
        "id": "9F1meAqsuUjd"
      },
      "outputs": [
        {
          "name": "stderr",
          "output_type": "stream",
          "text": [
            "C:\\Users\\monak\\AppData\\Local\\Temp\\ipykernel_16532\\2086182049.py:2: UserWarning: pandas only supports SQLAlchemy connectable (engine/connection) or database string URI or sqlite3 DBAPI2 connection. Other DBAPI2 objects are not tested. Please consider using SQLAlchemy.\n",
            "  data_vac_df = pd.read_sql_query(data_vac, connection)\n"
          ]
        },
        {
          "data": {
            "text/html": [
              "<div>\n",
              "<style scoped>\n",
              "    .dataframe tbody tr th:only-of-type {\n",
              "        vertical-align: middle;\n",
              "    }\n",
              "\n",
              "    .dataframe tbody tr th {\n",
              "        vertical-align: top;\n",
              "    }\n",
              "\n",
              "    .dataframe thead th {\n",
              "        text-align: right;\n",
              "    }\n",
              "</style>\n",
              "<table border=\"1\" class=\"dataframe\">\n",
              "  <thead>\n",
              "    <tr style=\"text-align: right;\">\n",
              "      <th></th>\n",
              "      <th>count</th>\n",
              "    </tr>\n",
              "  </thead>\n",
              "  <tbody>\n",
              "    <tr>\n",
              "      <th>0</th>\n",
              "      <td>1771</td>\n",
              "    </tr>\n",
              "  </tbody>\n",
              "</table>\n",
              "</div>"
            ],
            "text/plain": [
              "   count\n",
              "0   1771"
            ]
          },
          "metadata": {},
          "output_type": "display_data"
        }
      ],
      "source": [
        "# результат запроса\n",
        "data_vac_df = pd.read_sql_query(data_vac, connection)\n",
        "display(data_vac_df)"
      ]
    },
    {
      "cell_type": "markdown",
      "id": "4dea20cb-a36b-474a-a0b9-e08e8e3857a5",
      "metadata": {
        "id": "4dea20cb-a36b-474a-a0b9-e08e8e3857a5"
      },
      "source": [
        "2. Сколько есть подходящих вакансий для начинающего дата-сайентиста? \n",
        "Будем считать вакансиями для дата-сайентистов такие, в названии которых есть хотя бы одно из следующих сочетаний:\n",
        "* 'data scientist'\n",
        "* 'data science'\n",
        "* 'исследователь данных'\n",
        "* 'ML' (здесь не нужно брать вакансии по HTML)\n",
        "* 'machine learning'\n",
        "* 'машинн%обучен%'\n",
        "\n",
        "** В следующих заданиях мы продолжим работать с вакансиями по этому условию.*\n",
        "\n",
        "Считаем вакансиями для специалистов уровня Junior следующие:\n",
        "* в названии есть слово 'junior' *или*\n",
        "* требуемый опыт — Нет опыта *или*\n",
        "* тип трудоустройства — Стажировка.\n",
        " "
      ]
    },
    {
      "cell_type": "code",
      "execution_count": 39,
      "id": "9c61b3c0-bb66-46c9-ae1e-81d3f5752b4a",
      "metadata": {
        "id": "9c61b3c0-bb66-46c9-ae1e-81d3f5752b4a"
      },
      "outputs": [],
      "source": [
        "# текст запроса\n",
        "fits_to_ds = f'''\n",
        "SELECT \n",
        "    COUNT(*) AS matching_vacancies\n",
        "FROM\n",
        "    vacancies v\n",
        "WHERE\n",
        "    (\n",
        "        LOWER(v.name) LIKE '%data scientist%' OR\n",
        "        LOWER(v.name) LIKE '%data science%' OR\n",
        "        LOWER(v.name) LIKE '%исследователь данных%' OR\n",
        "        (LOWER(v.name) LIKE '%ml%' AND LOWER(v.name) NOT LIKE '%html%') OR\n",
        "        LOWER(v.name) LIKE '%machine learning%' OR\n",
        "        LOWER(v.name) LIKE '%машинн%обучен%'\n",
        "    )\n",
        "    AND\n",
        "    (\n",
        "        LOWER(v.name) LIKE '%junior%' OR\n",
        "        v.experience = 'Нет опыта' OR\n",
        "        v.schedule = 'Стажировка'\n",
        "    );\n",
        "'''"
      ]
    },
    {
      "cell_type": "code",
      "execution_count": 40,
      "id": "ZNM-LLYuu1dj",
      "metadata": {
        "id": "ZNM-LLYuu1dj"
      },
      "outputs": [
        {
          "name": "stderr",
          "output_type": "stream",
          "text": [
            "C:\\Users\\monak\\AppData\\Local\\Temp\\ipykernel_16532\\3031284124.py:2: UserWarning: pandas only supports SQLAlchemy connectable (engine/connection) or database string URI or sqlite3 DBAPI2 connection. Other DBAPI2 objects are not tested. Please consider using SQLAlchemy.\n",
            "  fits_to_ds_df = pd.read_sql_query(fits_to_ds, connection)\n"
          ]
        },
        {
          "data": {
            "text/html": [
              "<div>\n",
              "<style scoped>\n",
              "    .dataframe tbody tr th:only-of-type {\n",
              "        vertical-align: middle;\n",
              "    }\n",
              "\n",
              "    .dataframe tbody tr th {\n",
              "        vertical-align: top;\n",
              "    }\n",
              "\n",
              "    .dataframe thead th {\n",
              "        text-align: right;\n",
              "    }\n",
              "</style>\n",
              "<table border=\"1\" class=\"dataframe\">\n",
              "  <thead>\n",
              "    <tr style=\"text-align: right;\">\n",
              "      <th></th>\n",
              "      <th>matching_vacancies</th>\n",
              "    </tr>\n",
              "  </thead>\n",
              "  <tbody>\n",
              "    <tr>\n",
              "      <th>0</th>\n",
              "      <td>51</td>\n",
              "    </tr>\n",
              "  </tbody>\n",
              "</table>\n",
              "</div>"
            ],
            "text/plain": [
              "   matching_vacancies\n",
              "0                  51"
            ]
          },
          "metadata": {},
          "output_type": "display_data"
        }
      ],
      "source": [
        "# результат запроса\n",
        "fits_to_ds_df = pd.read_sql_query(fits_to_ds, connection)\n",
        "display(fits_to_ds_df)"
      ]
    },
    {
      "cell_type": "markdown",
      "id": "eedceb80-c5ca-480e-b27a-278dfb8b4438",
      "metadata": {
        "id": "eedceb80-c5ca-480e-b27a-278dfb8b4438"
      },
      "source": [
        "3. Сколько есть вакансий для DS, в которых в качестве ключевого навыка указан SQL или postgres?\n",
        "\n",
        "** Критерии для отнесения вакансии к DS указаны в предыдущем задании.*"
      ]
    },
    {
      "cell_type": "code",
      "execution_count": 41,
      "id": "69621713-0cc5-4f1b-a1d7-bb144fa6148c",
      "metadata": {
        "id": "69621713-0cc5-4f1b-a1d7-bb144fa6148c"
      },
      "outputs": [],
      "source": [
        "# текст запроса\n",
        "ds_sql_postgres = f'''\n",
        "SELECT \n",
        "    COUNT(*) AS matching_vacancies\n",
        "FROM\n",
        "    vacancies v\n",
        "WHERE\n",
        "    (\n",
        "        LOWER(v.name) LIKE '%data scientist%' OR\n",
        "        LOWER(v.name) LIKE '%data science%' OR\n",
        "        LOWER(v.name) LIKE '%исследователь данных%' OR\n",
        "        (LOWER(v.name) LIKE '%ml%' AND LOWER(v.name) NOT LIKE '%html%') OR\n",
        "        LOWER(v.name) LIKE '%machine learning%' OR\n",
        "        LOWER(v.name) LIKE '%машинн%обучен%'\n",
        "    )\n",
        "    AND\n",
        "    (\n",
        "        LOWER(v.key_skills) LIKE '%sql%' OR\n",
        "        LOWER(v.key_skills) LIKE '%postgres%'\n",
        "    );\n",
        "'''"
      ]
    },
    {
      "cell_type": "code",
      "execution_count": 42,
      "id": "alA8WEAAvGdf",
      "metadata": {
        "id": "alA8WEAAvGdf"
      },
      "outputs": [
        {
          "name": "stderr",
          "output_type": "stream",
          "text": [
            "C:\\Users\\monak\\AppData\\Local\\Temp\\ipykernel_16532\\713992335.py:2: UserWarning: pandas only supports SQLAlchemy connectable (engine/connection) or database string URI or sqlite3 DBAPI2 connection. Other DBAPI2 objects are not tested. Please consider using SQLAlchemy.\n",
            "  ds_sql_postgres_df = pd.read_sql_query(ds_sql_postgres, connection)\n"
          ]
        },
        {
          "data": {
            "text/html": [
              "<div>\n",
              "<style scoped>\n",
              "    .dataframe tbody tr th:only-of-type {\n",
              "        vertical-align: middle;\n",
              "    }\n",
              "\n",
              "    .dataframe tbody tr th {\n",
              "        vertical-align: top;\n",
              "    }\n",
              "\n",
              "    .dataframe thead th {\n",
              "        text-align: right;\n",
              "    }\n",
              "</style>\n",
              "<table border=\"1\" class=\"dataframe\">\n",
              "  <thead>\n",
              "    <tr style=\"text-align: right;\">\n",
              "      <th></th>\n",
              "      <th>matching_vacancies</th>\n",
              "    </tr>\n",
              "  </thead>\n",
              "  <tbody>\n",
              "    <tr>\n",
              "      <th>0</th>\n",
              "      <td>229</td>\n",
              "    </tr>\n",
              "  </tbody>\n",
              "</table>\n",
              "</div>"
            ],
            "text/plain": [
              "   matching_vacancies\n",
              "0                 229"
            ]
          },
          "metadata": {},
          "output_type": "display_data"
        }
      ],
      "source": [
        "# результат запроса\n",
        "ds_sql_postgres_df = pd.read_sql_query(ds_sql_postgres, connection)\n",
        "display(ds_sql_postgres_df)"
      ]
    },
    {
      "cell_type": "markdown",
      "id": "1be1e9c6-37cf-4a5f-bfeb-04cab799dc80",
      "metadata": {
        "id": "1be1e9c6-37cf-4a5f-bfeb-04cab799dc80"
      },
      "source": [
        "4. Проверьте, насколько популярен Python в требованиях работодателей к DS.Для этого вычислите количество вакансий, в которых в качестве ключевого навыка указан Python.\n",
        "\n",
        "** Это можно сделать помощью запроса, аналогичного предыдущему.*"
      ]
    },
    {
      "cell_type": "code",
      "execution_count": 43,
      "id": "0036a355-9ccf-4564-8b01-73d8194297e7",
      "metadata": {
        "id": "0036a355-9ccf-4564-8b01-73d8194297e7"
      },
      "outputs": [],
      "source": [
        "# текст запроса\n",
        "ds_python = f'''\n",
        "SELECT \n",
        "    COUNT(*) AS matching_vacancies\n",
        "FROM\n",
        "    vacancies v\n",
        "WHERE\n",
        "    (\n",
        "        LOWER(v.name) LIKE '%data scientist%' OR\n",
        "        LOWER(v.name) LIKE '%data science%' OR\n",
        "        LOWER(v.name) LIKE '%исследователь данных%' OR\n",
        "        (LOWER(v.name) LIKE '%ml%' AND LOWER(v.name) NOT LIKE '%html%') OR\n",
        "        LOWER(v.name) LIKE '%machine learning%' OR\n",
        "        LOWER(v.name) LIKE '%машинн%обучен%'\n",
        "    )\n",
        "    AND\n",
        "    (\n",
        "        LOWER(v.key_skills) LIKE '%python%'\n",
        "    );\n",
        "'''"
      ]
    },
    {
      "cell_type": "code",
      "execution_count": 44,
      "id": "1i-5WyucvQ6v",
      "metadata": {
        "id": "1i-5WyucvQ6v"
      },
      "outputs": [
        {
          "name": "stderr",
          "output_type": "stream",
          "text": [
            "C:\\Users\\monak\\AppData\\Local\\Temp\\ipykernel_16532\\3749165758.py:2: UserWarning: pandas only supports SQLAlchemy connectable (engine/connection) or database string URI or sqlite3 DBAPI2 connection. Other DBAPI2 objects are not tested. Please consider using SQLAlchemy.\n",
            "  ds_python_df = pd.read_sql_query(ds_python, connection)\n"
          ]
        },
        {
          "data": {
            "text/html": [
              "<div>\n",
              "<style scoped>\n",
              "    .dataframe tbody tr th:only-of-type {\n",
              "        vertical-align: middle;\n",
              "    }\n",
              "\n",
              "    .dataframe tbody tr th {\n",
              "        vertical-align: top;\n",
              "    }\n",
              "\n",
              "    .dataframe thead th {\n",
              "        text-align: right;\n",
              "    }\n",
              "</style>\n",
              "<table border=\"1\" class=\"dataframe\">\n",
              "  <thead>\n",
              "    <tr style=\"text-align: right;\">\n",
              "      <th></th>\n",
              "      <th>matching_vacancies</th>\n",
              "    </tr>\n",
              "  </thead>\n",
              "  <tbody>\n",
              "    <tr>\n",
              "      <th>0</th>\n",
              "      <td>357</td>\n",
              "    </tr>\n",
              "  </tbody>\n",
              "</table>\n",
              "</div>"
            ],
            "text/plain": [
              "   matching_vacancies\n",
              "0                 357"
            ]
          },
          "metadata": {},
          "output_type": "display_data"
        }
      ],
      "source": [
        "# результат запроса\n",
        "ds_python_df = pd.read_sql_query(ds_python, connection)\n",
        "display(ds_python_df)"
      ]
    },
    {
      "cell_type": "markdown",
      "id": "ec3c8db7-fa21-4a41-a994-1af63742a642",
      "metadata": {
        "id": "ec3c8db7-fa21-4a41-a994-1af63742a642"
      },
      "source": [
        "5. Сколько ключевых навыков в среднем указывают в вакансиях для DS?\n",
        "Ответ округлите до двух знаков после точки-разделителя."
      ]
    },
    {
      "cell_type": "code",
      "execution_count": 45,
      "id": "949132bc-d5b6-4611-8218-0b9a504d74f4",
      "metadata": {
        "id": "949132bc-d5b6-4611-8218-0b9a504d74f4"
      },
      "outputs": [],
      "source": [
        "# текст запроса\n",
        "key_skills_ds_mean = f'''\n",
        "SELECT \n",
        "    ROUND(AVG(LENGTH(v.key_skills) - LENGTH(REPLACE(v.key_skills, CHR(9), '')) + 1), 2)\n",
        "FROM vacancies v    \n",
        "WHERE \n",
        "    (LOWER(v.name) SIMILAR TO '(%data scientist%|%data science%|%исследователь данных%|%machine learning%|%машинн%обучен%)' or \n",
        "    (v.name LIKE '%ML%' and (v.name not ILIKE '%HTML%'))) and v.key_skills is not null '''"
      ]
    },
    {
      "cell_type": "code",
      "execution_count": 46,
      "id": "a3V24Tvmviqk",
      "metadata": {
        "id": "a3V24Tvmviqk"
      },
      "outputs": [
        {
          "name": "stderr",
          "output_type": "stream",
          "text": [
            "C:\\Users\\monak\\AppData\\Local\\Temp\\ipykernel_16532\\4095463142.py:2: UserWarning: pandas only supports SQLAlchemy connectable (engine/connection) or database string URI or sqlite3 DBAPI2 connection. Other DBAPI2 objects are not tested. Please consider using SQLAlchemy.\n",
            "  key_skills_ds_mean_df = pd.read_sql_query(key_skills_ds_mean, connection)\n"
          ]
        },
        {
          "data": {
            "text/html": [
              "<div>\n",
              "<style scoped>\n",
              "    .dataframe tbody tr th:only-of-type {\n",
              "        vertical-align: middle;\n",
              "    }\n",
              "\n",
              "    .dataframe tbody tr th {\n",
              "        vertical-align: top;\n",
              "    }\n",
              "\n",
              "    .dataframe thead th {\n",
              "        text-align: right;\n",
              "    }\n",
              "</style>\n",
              "<table border=\"1\" class=\"dataframe\">\n",
              "  <thead>\n",
              "    <tr style=\"text-align: right;\">\n",
              "      <th></th>\n",
              "      <th>round</th>\n",
              "    </tr>\n",
              "  </thead>\n",
              "  <tbody>\n",
              "    <tr>\n",
              "      <th>0</th>\n",
              "      <td>6.41</td>\n",
              "    </tr>\n",
              "  </tbody>\n",
              "</table>\n",
              "</div>"
            ],
            "text/plain": [
              "   round\n",
              "0   6.41"
            ]
          },
          "metadata": {},
          "output_type": "display_data"
        }
      ],
      "source": [
        "# результат запроса\n",
        "key_skills_ds_mean_df = pd.read_sql_query(key_skills_ds_mean, connection)\n",
        "display(key_skills_ds_mean_df)"
      ]
    },
    {
      "cell_type": "markdown",
      "id": "1041c17a-ca8f-4543-a0ca-32778914fb00",
      "metadata": {
        "id": "1041c17a-ca8f-4543-a0ca-32778914fb00"
      },
      "source": [
        "6. Напишите запрос, позволяющий вычислить, какую зарплату для DS в **среднем** указывают для каждого типа требуемого опыта (уникальное значение из поля *experience*). \n",
        "\n",
        "При решении задачи примите во внимание следующее:\n",
        "1. Рассматриваем только вакансии, у которых заполнено хотя бы одно из двух полей с зарплатой.\n",
        "2. Если заполнены оба поля с зарплатой, то считаем зарплату по каждой вакансии как сумму двух полей, делённую на 2. Если заполнено только одно из полей, то его и считаем зарплатой по вакансии.\n",
        "3. Если в расчётах участвует null, в результате он тоже даст null (посмотрите, что возвращает запрос select 1 + null). Чтобы избежать этой ситуацию, мы воспользуемся функцией [coalesce](https://postgrespro.ru/docs/postgresql/9.5/functions-conditional#functions-coalesce-nvl-ifnull), которая заменит null на значение, которое мы передадим. Например, посмотрите, что возвращает запрос `select 1 + coalesce(null, 0)`\n",
        "\n",
        "Выясните, на какую зарплату в среднем может рассчитывать дата-сайентист с опытом работы от 3 до 6 лет. Результат округлите до целого числа. "
      ]
    },
    {
      "cell_type": "code",
      "execution_count": 47,
      "id": "6a743d39-5204-48d3-8271-b9f88e68d40e",
      "metadata": {
        "id": "6a743d39-5204-48d3-8271-b9f88e68d40e"
      },
      "outputs": [],
      "source": [
        "# текст запроса\n",
        "ds_salary = f'''\n",
        "SELECT\n",
        "    v.experience,\n",
        "    ROUND(AVG(\n",
        "        COALESCE(salary_from, salary_to) + COALESCE(salary_to, salary_from)\n",
        "    ) / 2) AS avg_salary\n",
        "FROM\n",
        "    vacancies v\n",
        "WHERE\n",
        "    (\n",
        "        LOWER(name) LIKE '%data scientist%' OR\n",
        "        LOWER(name) LIKE '%data science%' OR\n",
        "        LOWER(name) LIKE '%исследователь данных%' OR\n",
        "        LOWER(name) LIKE '%machine learning%' OR\n",
        "        LOWER(name) LIKE '%машинн%обучен%' OR\n",
        "        (name LIKE '%ML%' and name NOT ILIKE '%HTML%')\n",
        "    )\n",
        "    AND (salary_from IS NOT NULL OR salary_to IS NOT NULL)\n",
        "GROUP BY\n",
        "    v.experience\n",
        "HAVING\n",
        "    v.experience = 'От 3 до 6 лет';\n",
        "\n",
        "'''\n",
        "    "
      ]
    },
    {
      "cell_type": "code",
      "execution_count": 48,
      "id": "aRIJ0mZEwU1_",
      "metadata": {
        "id": "aRIJ0mZEwU1_"
      },
      "outputs": [
        {
          "name": "stderr",
          "output_type": "stream",
          "text": [
            "C:\\Users\\monak\\AppData\\Local\\Temp\\ipykernel_16532\\2289103629.py:2: UserWarning: pandas only supports SQLAlchemy connectable (engine/connection) or database string URI or sqlite3 DBAPI2 connection. Other DBAPI2 objects are not tested. Please consider using SQLAlchemy.\n",
            "  ds_salary_df = pd.read_sql_query(ds_salary, connection)\n"
          ]
        },
        {
          "data": {
            "text/html": [
              "<div>\n",
              "<style scoped>\n",
              "    .dataframe tbody tr th:only-of-type {\n",
              "        vertical-align: middle;\n",
              "    }\n",
              "\n",
              "    .dataframe tbody tr th {\n",
              "        vertical-align: top;\n",
              "    }\n",
              "\n",
              "    .dataframe thead th {\n",
              "        text-align: right;\n",
              "    }\n",
              "</style>\n",
              "<table border=\"1\" class=\"dataframe\">\n",
              "  <thead>\n",
              "    <tr style=\"text-align: right;\">\n",
              "      <th></th>\n",
              "      <th>experience</th>\n",
              "      <th>avg_salary</th>\n",
              "    </tr>\n",
              "  </thead>\n",
              "  <tbody>\n",
              "    <tr>\n",
              "      <th>0</th>\n",
              "      <td>От 3 до 6 лет</td>\n",
              "      <td>243115.0</td>\n",
              "    </tr>\n",
              "  </tbody>\n",
              "</table>\n",
              "</div>"
            ],
            "text/plain": [
              "      experience  avg_salary\n",
              "0  От 3 до 6 лет    243115.0"
            ]
          },
          "metadata": {},
          "output_type": "display_data"
        }
      ],
      "source": [
        "# результат запроса\n",
        "ds_salary_df = pd.read_sql_query(ds_salary, connection)\n",
        "display(ds_salary_df)"
      ]
    },
    {
      "cell_type": "markdown",
      "id": "6a7892b4-4113-4746-adce-18aa2844f18e",
      "metadata": {
        "id": "6a7892b4-4113-4746-adce-18aa2844f18e"
      },
      "source": [
        "***"
      ]
    },
    {
      "cell_type": "markdown",
      "id": "a391f4dc",
      "metadata": {},
      "source": [
        "# выводы по предметному анализу\n",
        "1. 1771 вакансий тем или иным образом имеют отношение к данным. (1771/49197) это составляет 3,5% от общего числа вакансий представленных в выборке.\n",
        "2. Существует 51 различное наименование для вакансий связанных с обработкой данных.\n",
        "3. Вакансий связанных с SQL или PostgreSQL насчитывается 229. Примерно 1/8 вакансий DS.\n",
        "4. Знание Python тредуется на 357 вакансиях. Это примерно 1/5 вакансий по DS.\n",
        "5. В среднем для DS вакансий указывают 6,4 навыка, интересно посмотреть весь список ключевых навыков.\n",
        "6. Человек с опытом работы в DS от 3 до 6 лет может расчитвать на среднюю з/п в 243115 рубля. Мотивирует учиться дальше.\n"
      ]
    },
    {
      "cell_type": "markdown",
      "id": "c0ED6fh7wiBT",
      "metadata": {
        "id": "c0ED6fh7wiBT"
      },
      "source": [
        "# Общий вывод по проекту\n",
        "\n",
        "### подведем итог исследования, обобщите выводы\n",
        "### здесь можно (это будет плюсом) провести дополнительные исследования данных, сделать прогнозы, продумать варианты продолжения исследования\n",
        "\n",
        "### Дополнительные исследования данных"
      ]
    },
    {
      "cell_type": "code",
      "execution_count": 49,
      "id": "4d6a47ce",
      "metadata": {},
      "outputs": [
        {
          "name": "stderr",
          "output_type": "stream",
          "text": [
            "C:\\Users\\monak\\AppData\\Local\\Temp\\ipykernel_16532\\217898114.py:13: UserWarning: pandas only supports SQLAlchemy connectable (engine/connection) or database string URI or sqlite3 DBAPI2 connection. Other DBAPI2 objects are not tested. Please consider using SQLAlchemy.\n",
            "  vacancies_list_df = pd.read_sql_query(vacancies_list, connection)\n"
          ]
        },
        {
          "data": {
            "text/html": [
              "<div>\n",
              "<style scoped>\n",
              "    .dataframe tbody tr th:only-of-type {\n",
              "        vertical-align: middle;\n",
              "    }\n",
              "\n",
              "    .dataframe tbody tr th {\n",
              "        vertical-align: top;\n",
              "    }\n",
              "\n",
              "    .dataframe thead th {\n",
              "        text-align: right;\n",
              "    }\n",
              "</style>\n",
              "<table border=\"1\" class=\"dataframe\">\n",
              "  <thead>\n",
              "    <tr style=\"text-align: right;\">\n",
              "      <th></th>\n",
              "      <th>count</th>\n",
              "    </tr>\n",
              "  </thead>\n",
              "  <tbody>\n",
              "    <tr>\n",
              "      <th>0</th>\n",
              "      <td>21223</td>\n",
              "    </tr>\n",
              "  </tbody>\n",
              "</table>\n",
              "</div>"
            ],
            "text/plain": [
              "   count\n",
              "0  21223"
            ]
          },
          "metadata": {},
          "output_type": "display_data"
        }
      ],
      "source": [
        "# Посчитаем количество уникальных наименований вакансий в выборке\n",
        "\n",
        "vacancies_list = f''' \n",
        "SELECT\n",
        "    COUNT(DISTINCT(v.name))\n",
        "FROM\n",
        "    vacancies v\n",
        "    \n",
        "ORDER BY\n",
        "    1;\n",
        "'''\n",
        "\n",
        "vacancies_list_df = pd.read_sql_query(vacancies_list, connection)\n",
        "display(vacancies_list_df)    "
      ]
    },
    {
      "cell_type": "markdown",
      "id": "f017024d",
      "metadata": {},
      "source": [
        "Количество уникальных наименований представленных в выборке составляет 21223. Это немногим меньше половины всех вакансий. Это говорит нам о сильном разнообразии рынка труда. "
      ]
    },
    {
      "cell_type": "code",
      "execution_count": 50,
      "id": "b8c55f16",
      "metadata": {},
      "outputs": [
        {
          "name": "stderr",
          "output_type": "stream",
          "text": [
            "C:\\Users\\monak\\AppData\\Local\\Temp\\ipykernel_16532\\23862437.py:22: UserWarning: pandas only supports SQLAlchemy connectable (engine/connection) or database string URI or sqlite3 DBAPI2 connection. Other DBAPI2 objects are not tested. Please consider using SQLAlchemy.\n",
            "  vacancies_list_ds_df = pd.read_sql_query(vacancies_list_ds, connection)\n"
          ]
        },
        {
          "data": {
            "text/html": [
              "<div>\n",
              "<style scoped>\n",
              "    .dataframe tbody tr th:only-of-type {\n",
              "        vertical-align: middle;\n",
              "    }\n",
              "\n",
              "    .dataframe tbody tr th {\n",
              "        vertical-align: top;\n",
              "    }\n",
              "\n",
              "    .dataframe thead th {\n",
              "        text-align: right;\n",
              "    }\n",
              "</style>\n",
              "<table border=\"1\" class=\"dataframe\">\n",
              "  <thead>\n",
              "    <tr style=\"text-align: right;\">\n",
              "      <th></th>\n",
              "      <th>name</th>\n",
              "    </tr>\n",
              "  </thead>\n",
              "  <tbody>\n",
              "    <tr>\n",
              "      <th>0</th>\n",
              "      <td>AI/ML Senior Engineer</td>\n",
              "    </tr>\n",
              "    <tr>\n",
              "      <th>1</th>\n",
              "      <td>Analyst Data Scientist</td>\n",
              "    </tr>\n",
              "    <tr>\n",
              "      <th>2</th>\n",
              "      <td>Analyst/Data Scientist</td>\n",
              "    </tr>\n",
              "    <tr>\n",
              "      <th>3</th>\n",
              "      <td>B2B Data Scientist (Эксперт по моделированию и...</td>\n",
              "    </tr>\n",
              "    <tr>\n",
              "      <th>4</th>\n",
              "      <td>Chief Data Science (Цифровой кредитный монитор...</td>\n",
              "    </tr>\n",
              "    <tr>\n",
              "      <th>...</th>\n",
              "      <td>...</td>\n",
              "    </tr>\n",
              "    <tr>\n",
              "      <th>281</th>\n",
              "      <td>Стажер направления Машинное обучение и анализ ...</td>\n",
              "    </tr>\n",
              "    <tr>\n",
              "      <th>282</th>\n",
              "      <td>Стажёр Data Scientist / Группа сервисов Антифр...</td>\n",
              "    </tr>\n",
              "    <tr>\n",
              "      <th>283</th>\n",
              "      <td>Старший аналитик (Data Science)</td>\n",
              "    </tr>\n",
              "    <tr>\n",
              "      <th>284</th>\n",
              "      <td>Старший разработчик (ML engineer)</td>\n",
              "    </tr>\n",
              "    <tr>\n",
              "      <th>285</th>\n",
              "      <td>Эксперт по машинному обучению и искусственному...</td>\n",
              "    </tr>\n",
              "  </tbody>\n",
              "</table>\n",
              "<p>286 rows × 1 columns</p>\n",
              "</div>"
            ],
            "text/plain": [
              "                                                  name\n",
              "0                                AI/ML Senior Engineer\n",
              "1                               Analyst Data Scientist\n",
              "2                               Analyst/Data Scientist\n",
              "3    B2B Data Scientist (Эксперт по моделированию и...\n",
              "4    Chief Data Science (Цифровой кредитный монитор...\n",
              "..                                                 ...\n",
              "281  Стажер направления Машинное обучение и анализ ...\n",
              "282  Стажёр Data Scientist / Группа сервисов Антифр...\n",
              "283                    Старший аналитик (Data Science)\n",
              "284                  Старший разработчик (ML engineer)\n",
              "285  Эксперт по машинному обучению и искусственному...\n",
              "\n",
              "[286 rows x 1 columns]"
            ]
          },
          "metadata": {},
          "output_type": "display_data"
        }
      ],
      "source": [
        "# Составим список и заодно псчитаем количество уникальных наименований для DS-вакансий\n",
        "\n",
        "vacancies_list_ds = f''' \n",
        "SELECT DISTINCT\n",
        "    v.name\n",
        "FROM\n",
        "    vacancies v\n",
        "WHERE\n",
        "    (\n",
        "        LOWER(name) LIKE '%data scientist%' OR\n",
        "        LOWER(name) LIKE '%data science%' OR\n",
        "        LOWER(name) LIKE '%исследователь данных%' OR\n",
        "        LOWER(name) LIKE '%machine learning%' OR\n",
        "        LOWER(name) LIKE '%машинн%обучен%' OR\n",
        "        (name LIKE '%ML%' AND name NOT ILIKE '%HTML%')\n",
        "    )\n",
        "ORDER BY\n",
        "    v.name ASC;\n",
        "\n",
        "'''\n",
        "\n",
        "vacancies_list_ds_df = pd.read_sql_query(vacancies_list_ds, connection)\n",
        "display(vacancies_list_ds_df) "
      ]
    },
    {
      "cell_type": "markdown",
      "id": "c0de249f",
      "metadata": {},
      "source": [
        "Уникальными для вакансий DS 286 наименований из 1771. Полученую цифру нужно считать приблизительной поскольку написание названий вакансий в этом списке может отличаться всего в один знак."
      ]
    },
    {
      "cell_type": "code",
      "execution_count": 51,
      "id": "7224155d",
      "metadata": {},
      "outputs": [
        {
          "name": "stderr",
          "output_type": "stream",
          "text": [
            "C:\\Users\\monak\\AppData\\Local\\Temp\\ipykernel_16532\\4024917935.py:24: UserWarning: pandas only supports SQLAlchemy connectable (engine/connection) or database string URI or sqlite3 DBAPI2 connection. Other DBAPI2 objects are not tested. Please consider using SQLAlchemy.\n",
            "  key_skills_ds_df = pd.read_sql_query(key_skills_ds, connection)\n"
          ]
        },
        {
          "data": {
            "text/html": [
              "<div>\n",
              "<style scoped>\n",
              "    .dataframe tbody tr th:only-of-type {\n",
              "        vertical-align: middle;\n",
              "    }\n",
              "\n",
              "    .dataframe tbody tr th {\n",
              "        vertical-align: top;\n",
              "    }\n",
              "\n",
              "    .dataframe thead th {\n",
              "        text-align: right;\n",
              "    }\n",
              "</style>\n",
              "<table border=\"1\" class=\"dataframe\">\n",
              "  <thead>\n",
              "    <tr style=\"text-align: right;\">\n",
              "      <th></th>\n",
              "      <th>skill</th>\n",
              "    </tr>\n",
              "  </thead>\n",
              "  <tbody>\n",
              "    <tr>\n",
              "      <th>0</th>\n",
              "      <td>1c erp</td>\n",
              "    </tr>\n",
              "    <tr>\n",
              "      <th>1</th>\n",
              "      <td>1c: бухгалтерия</td>\n",
              "    </tr>\n",
              "    <tr>\n",
              "      <th>2</th>\n",
              "      <td>1с-битрикс</td>\n",
              "    </tr>\n",
              "    <tr>\n",
              "      <th>3</th>\n",
              "      <td>1с: документооборот</td>\n",
              "    </tr>\n",
              "    <tr>\n",
              "      <th>4</th>\n",
              "      <td>1с: зарплата и управление персоналом</td>\n",
              "    </tr>\n",
              "    <tr>\n",
              "      <th>...</th>\n",
              "      <td>...</td>\n",
              "    </tr>\n",
              "    <tr>\n",
              "      <th>482</th>\n",
              "      <td>управление требованиями</td>\n",
              "    </tr>\n",
              "    <tr>\n",
              "      <th>483</th>\n",
              "      <td>функциональное тестирование</td>\n",
              "    </tr>\n",
              "    <tr>\n",
              "      <th>484</th>\n",
              "      <td>чат-бот</td>\n",
              "    </tr>\n",
              "    <tr>\n",
              "      <th>485</th>\n",
              "      <td>широкий кругозор</td>\n",
              "    </tr>\n",
              "    <tr>\n",
              "      <th>486</th>\n",
              "      <td>экономический анализ</td>\n",
              "    </tr>\n",
              "  </tbody>\n",
              "</table>\n",
              "<p>487 rows × 1 columns</p>\n",
              "</div>"
            ],
            "text/plain": [
              "                                    skill\n",
              "0                                  1c erp\n",
              "1                         1c: бухгалтерия\n",
              "2                              1с-битрикс\n",
              "3                     1с: документооборот\n",
              "4    1с: зарплата и управление персоналом\n",
              "..                                    ...\n",
              "482               управление требованиями\n",
              "483           функциональное тестирование\n",
              "484                               чат-бот\n",
              "485                      широкий кругозор\n",
              "486                  экономический анализ\n",
              "\n",
              "[487 rows x 1 columns]"
            ]
          },
          "metadata": {},
          "output_type": "display_data"
        }
      ],
      "source": [
        "# Посмотрим на список ключевых навыков для DS\n",
        "\n",
        "key_skills_ds = f'''\n",
        "WITH skill_list AS (\n",
        "    SELECT \n",
        "        LOWER(UNNEST(STRING_TO_ARRAY(v.key_skills, CHR(9)))) AS skill\n",
        "    FROM \n",
        "        vacancies v    \n",
        "    WHERE \n",
        "        (LOWER(v.name) SIMILAR TO '(%data scientist%|%data science%|%исследователь данных%|%machine learning%|%машинн%обучен%)' OR \n",
        "        (LOWER(v.name) LIKE '%ml%' AND LOWER(v.name) NOT LIKE '%html%')) \n",
        "        AND v.key_skills IS NOT NULL\n",
        ")\n",
        "SELECT DISTINCT\n",
        "    skill\n",
        "FROM \n",
        "    skill_list\n",
        "ORDER BY \n",
        "    skill ASC;\n",
        "'''\n",
        "\n",
        "    \n",
        "    \n",
        "key_skills_ds_df = pd.read_sql_query(key_skills_ds, connection)\n",
        "display(key_skills_ds_df)    "
      ]
    },
    {
      "cell_type": "markdown",
      "id": "344fc716",
      "metadata": {},
      "source": [
        "Всего для DS мы насчитали 487 различных уникальных ключевых навыков. Этот список подлежит дальнейшему изучению на выявления скрытых повторений, например когда навык пишется на разных языках, с ошибкой, или другими словами. "
      ]
    },
    {
      "cell_type": "code",
      "execution_count": 52,
      "id": "e9b8889f",
      "metadata": {},
      "outputs": [
        {
          "name": "stderr",
          "output_type": "stream",
          "text": [
            "C:\\Users\\monak\\AppData\\Local\\Temp\\ipykernel_16532\\1718403341.py:28: UserWarning: pandas only supports SQLAlchemy connectable (engine/connection) or database string URI or sqlite3 DBAPI2 connection. Other DBAPI2 objects are not tested. Please consider using SQLAlchemy.\n",
            "  ds_salary_junior_df = pd.read_sql_query(ds_salary_junior, connection)\n"
          ]
        },
        {
          "data": {
            "text/html": [
              "<div>\n",
              "<style scoped>\n",
              "    .dataframe tbody tr th:only-of-type {\n",
              "        vertical-align: middle;\n",
              "    }\n",
              "\n",
              "    .dataframe tbody tr th {\n",
              "        vertical-align: top;\n",
              "    }\n",
              "\n",
              "    .dataframe thead th {\n",
              "        text-align: right;\n",
              "    }\n",
              "</style>\n",
              "<table border=\"1\" class=\"dataframe\">\n",
              "  <thead>\n",
              "    <tr style=\"text-align: right;\">\n",
              "      <th></th>\n",
              "      <th>experience</th>\n",
              "      <th>avg_salary</th>\n",
              "    </tr>\n",
              "  </thead>\n",
              "  <tbody>\n",
              "    <tr>\n",
              "      <th>0</th>\n",
              "      <td>Нет опыта</td>\n",
              "      <td>74643.0</td>\n",
              "    </tr>\n",
              "    <tr>\n",
              "      <th>1</th>\n",
              "      <td>От 1 года до 3 лет</td>\n",
              "      <td>139675.0</td>\n",
              "    </tr>\n",
              "  </tbody>\n",
              "</table>\n",
              "</div>"
            ],
            "text/plain": [
              "           experience  avg_salary\n",
              "0           Нет опыта     74643.0\n",
              "1  От 1 года до 3 лет    139675.0"
            ]
          },
          "metadata": {},
          "output_type": "display_data"
        }
      ],
      "source": [
        "# На какую зарплату может расчитывать начинающь специалист без опыта или с небольшим опытом\n",
        "\n",
        "ds_salary_junior = f'''\n",
        "SELECT\n",
        "    v.experience,\n",
        "    ROUND(AVG(\n",
        "        COALESCE(salary_from, salary_to) + COALESCE(salary_to, salary_from)\n",
        "    ) / 2) AS avg_salary\n",
        "FROM\n",
        "    vacancies v\n",
        "WHERE\n",
        "    (\n",
        "        LOWER(name) LIKE '%data scientist%' OR\n",
        "        LOWER(name) LIKE '%data science%' OR\n",
        "        LOWER(name) LIKE '%исследователь данных%' OR\n",
        "        LOWER(name) LIKE '%machine learning%' OR\n",
        "        LOWER(name) LIKE '%машинн%обучен%' OR\n",
        "        (name LIKE '%ML%' and name NOT ILIKE '%HTML%')\n",
        "    )\n",
        "    AND (salary_from IS NOT NULL OR salary_to IS NOT NULL)\n",
        "GROUP BY\n",
        "    v.experience\n",
        "HAVING\n",
        "    v.experience IN ('Нет опыта', 'От 1 года до 3 лет');\n",
        "\n",
        "'''\n",
        "\n",
        "ds_salary_junior_df = pd.read_sql_query(ds_salary_junior, connection)\n",
        "display(ds_salary_junior_df)\n",
        "\t"
      ]
    },
    {
      "cell_type": "markdown",
      "id": "b440b644",
      "metadata": {},
      "source": [
        "Как мы видим на этапе junior на большую зарплату можно не расчитывать. Давайте сравним со средней зарплатой в целом по выборке для вариантов \"нет опыта\" и \"от 1 года до 3 лет\"."
      ]
    },
    {
      "cell_type": "code",
      "execution_count": 53,
      "id": "02c8cdce",
      "metadata": {},
      "outputs": [
        {
          "name": "stderr",
          "output_type": "stream",
          "text": [
            "C:\\Users\\monak\\AppData\\Local\\Temp\\ipykernel_16532\\1868578974.py:18: UserWarning: pandas only supports SQLAlchemy connectable (engine/connection) or database string URI or sqlite3 DBAPI2 connection. Other DBAPI2 objects are not tested. Please consider using SQLAlchemy.\n",
            "  salary_zero_exp_df = pd.read_sql_query(salary_zero_exp, connection)\n"
          ]
        },
        {
          "data": {
            "text/html": [
              "<div>\n",
              "<style scoped>\n",
              "    .dataframe tbody tr th:only-of-type {\n",
              "        vertical-align: middle;\n",
              "    }\n",
              "\n",
              "    .dataframe tbody tr th {\n",
              "        vertical-align: top;\n",
              "    }\n",
              "\n",
              "    .dataframe thead th {\n",
              "        text-align: right;\n",
              "    }\n",
              "</style>\n",
              "<table border=\"1\" class=\"dataframe\">\n",
              "  <thead>\n",
              "    <tr style=\"text-align: right;\">\n",
              "      <th></th>\n",
              "      <th>experience</th>\n",
              "      <th>avg_salary</th>\n",
              "    </tr>\n",
              "  </thead>\n",
              "  <tbody>\n",
              "    <tr>\n",
              "      <th>0</th>\n",
              "      <td>Нет опыта</td>\n",
              "      <td>40472.0</td>\n",
              "    </tr>\n",
              "    <tr>\n",
              "      <th>1</th>\n",
              "      <td>От 1 года до 3 лет</td>\n",
              "      <td>76541.0</td>\n",
              "    </tr>\n",
              "  </tbody>\n",
              "</table>\n",
              "</div>"
            ],
            "text/plain": [
              "           experience  avg_salary\n",
              "0           Нет опыта     40472.0\n",
              "1  От 1 года до 3 лет     76541.0"
            ]
          },
          "metadata": {},
          "output_type": "display_data"
        }
      ],
      "source": [
        "salary_zero_exp= f'''\n",
        "SELECT\n",
        "    v.experience,\n",
        "    ROUND(AVG(\n",
        "        COALESCE(salary_from, salary_to) + COALESCE(salary_to, salary_from)\n",
        "    ) / 2) AS avg_salary\n",
        "FROM\n",
        "    vacancies v\n",
        "WHERE\n",
        "    salary_from IS NOT NULL OR salary_to IS NOT NULL\n",
        "GROUP BY\n",
        "    v.experience\n",
        "HAVING\n",
        "    v.experience IN ('Нет опыта', 'От 1 года до 3 лет');\n",
        "\n",
        "'''\n",
        "\n",
        "salary_zero_exp_df = pd.read_sql_query(salary_zero_exp, connection)\n",
        "display(salary_zero_exp_df)\n"
      ]
    },
    {
      "cell_type": "markdown",
      "id": "b331995d",
      "metadata": {},
      "source": [
        "Сравнение показывает, что в DS без опыта будешь получать столько же сколько с опытом \"от 1 года до 3 лет\" в среднем по выборке. Ощутимая разница."
      ]
    },
    {
      "cell_type": "markdown",
      "id": "35910f95",
      "metadata": {},
      "source": [
        "# Общий вывод:\n",
        "\n",
        "Исследование данных по вакансиям и работодателям выявило ряд интересных и важных тенденций на рынке труда, но также указало на необходимость дальнейшего углубленного анализа.\n",
        "\n",
        "- Основные выводы:\n",
        "1. Объем и разнообразие вакансий:\n",
        "\n",
        "В выборке представлено 49,197 вакансий, охватывающих 23,501 работодателя, 1,362 региона и 294 отрасли. В среднем на одного работодателя приходится две вакансии, что может свидетельствовать о высоком спросе на рабочую силу.\n",
        "Количество регионов в выборке значительно превышает официальное количество регионов в России, что требует уточнения. Возможно, в данных учитываются административные единицы, города или международные регионы, что могло привести к избыточной детализации.\n",
        "\n",
        "2. Разнообразие наименований вакансий:\n",
        "Количество уникальных наименований вакансий составляет 21,223, что составляет почти половину от всех вакансий. Это свидетельствует о большом разнообразии рынка труда и широком спектре предложений.\n",
        "Для вакансий, связанных с Data Science (DS), количество уникальных наименований составило 286 из 1,771, что составляет примерно каждую шестую вакансию. Это число требует уточнения, так как незначительные различия в написании названий могут влиять на статистику.\n",
        "\n",
        "3. Востребованность профессий DS:\n",
        "Анализ показал, что профессии, связанные с DS, обработкой и анализом данных, имеют высокую востребованность. Средняя зарплата в этой области значительно выше, чем в среднем по выборке, что подтверждается соотношением уникальных вакансий к общему числу — 286/1,771 для DS и 21,223/49,197 для всех вакансий.\n",
        "Для специалистов без опыта в DS предлагается заработная плата, сопоставимая с зарплатой для работников с опытом от 1 года до 3 лет по всем отраслям, что подчеркивает привлекательность этой сферы для начинающих специалистов.\n",
        "\n",
        "4. Очистка и стандартизация данных:\n",
        "Дальнейший анализ данных выявил наличие незначительных различий в наименованиях вакансий и ключевых навыков. Эти различия искажают статистику, и их влияние неизвестно. Необходима дополнительная работа по очистке данных, устранению дублирований и стандартизации записей.\n",
        "Например, для вакансий DS выявлено 487 различных уникальных ключевых навыков, но этот список также нуждается в изучении и очистке, так как навыки могут быть записаны с ошибками, на разных языках или под разными именами.\n",
        "\n",
        "- Рекомендации и варианты продолжения исследования:\n",
        "\n",
        "1. Очистка и стандартизация данных:\n",
        "Провести детальную очистку данных, включая исправление орфографических ошибок, устранение дублирований и унификацию написания ключевых навыков и названий вакансий. Это позволит получить более точные результаты и улучшить качество анализа.\n",
        "\n",
        "2. Дополнительное исследование рынка DS:\n",
        "Провести углубленный анализ рынка труда для профессий, связанных с DS, включая сравнение зарплат на разных уровнях опыта и по регионам. Это поможет лучше понять, какие навыки и опыт наиболее востребованы и как это влияет на уровень оплаты труда.\n",
        "\n",
        "3. Анализ географического распределения:\n",
        "Уточнить категорию «регионов» в данных, чтобы выяснить, какие административные единицы учитывались, и провести исследование по распределению вакансий между регионами. Это позволит выявить возможные диспропорции и региональные особенности рынка труда.\n",
        "\n",
        "4. Анализ востребованности навыков:\n",
        "Провести анализ востребованности отдельных ключевых навыков, особенно в области DS. Это поможет выявить, какие компетенции наиболее важны для работодателей и как их наличие влияет на предложение вакансий и уровень зарплат.\n",
        "\n",
        "5. Сравнение с другими отраслями:\n",
        "Сравнить уровень зарплат и требования по опыту работы в DS с другими высокотехнологичными отраслями, чтобы оценить конкурентоспособность и привлекательность этой сферы для новых специалистов.\n",
        "\n",
        "\n",
        "Таким образом, исследование показало как востребованность профессий, связанных с анализом данных, так и необходимость дальнейшей работы с данными для получения более точных и полезных выводов. Очистка и стандартизация данных, а также углубленный анализ конкретных направлений, помогут лучше понять рынок труда и его потребности.\n",
        "\n",
        "\n",
        "\n",
        "\n",
        "\n",
        "\n"
      ]
    }
  ],
  "metadata": {
    "colab": {
      "collapsed_sections": [
        "8d62a9f3-f64e-4fe7-bdac-c4dffa16155e"
      ],
      "provenance": []
    },
    "kernelspec": {
      "display_name": "Python 3 (ipykernel)",
      "language": "python",
      "name": "python3"
    },
    "language_info": {
      "codemirror_mode": {
        "name": "ipython",
        "version": 3
      },
      "file_extension": ".py",
      "mimetype": "text/x-python",
      "name": "python",
      "nbconvert_exporter": "python",
      "pygments_lexer": "ipython3",
      "version": "3.9.10"
    }
  },
  "nbformat": 4,
  "nbformat_minor": 5
}
