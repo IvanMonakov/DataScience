{
 "cells": [
  {
   "cell_type": "markdown",
   "metadata": {},
   "source": [
    "# 1. Знакомимся с данными\n",
    "✍ В этом модуле мы познакомимся с агрегатными функциями.\n",
    "\n",
    "И помогут нам в этом... покемоны! Как? Да очень просто!\n",
    "\n",
    "На протяжении всего модуля мы будем работать с таблицей sql.pokemon, содержащей данные о покемонах и их характеристиках из классических видеоигр.\n",
    "\n",
    "Давайте познакомимся с нашими покемонами и данными о них!"
   ]
  },
  {
   "cell_type": "markdown",
   "metadata": {},
   "source": [
    "#  2. Убираем повторяющиеся значения\n",
    "\n",
    "Для начала получим все основные типы покемонов."
   ]
  },
  {
   "cell_type": "code",
   "execution_count": null,
   "metadata": {},
   "outputs": [],
   "source": [
    "# SELECT\n",
    "#     type1\n",
    "# FROM sql.pokemon"
   ]
  },
  {
   "cell_type": "markdown",
   "metadata": {},
   "source": [
    "Видно, что типы повторяются, потому что в результате запроса вы получаете все строки, которые подходят под заданные условия.\n",
    "\n",
    "Чтобы получить уникальные значения из столбца, воспользуемся ключевым словом DISTINCT.\n"
   ]
  },
  {
   "cell_type": "code",
   "execution_count": null,
   "metadata": {},
   "outputs": [],
   "source": [
    "# SELECT DISTINCT\n",
    "#     type1\n",
    "# FROM sql.pokemon\n",
    "\n",
    "# Мы можем применять DISTINCT и для нескольких столбцов.\n",
    "\n",
    "# SELECT DISTINCT\n",
    "#     type1\n",
    "#     type2\n",
    "# FROM sql.pokemon"
   ]
  },
  {
   "cell_type": "markdown",
   "metadata": {},
   "source": [
    "# 3. Агрегатные функции\n",
    "✍ Кроме простых математических операций, которые мы использовали в предыдущем модуле, СУБД позволяет проводить статистические вычисления для нескольких строк.\n",
    "\n",
    "Давайте посчитаем количество строк в таблице. Для этого применим агрегатную функцию COUNT."
   ]
  },
  {
   "cell_type": "code",
   "execution_count": null,
   "metadata": {},
   "outputs": [],
   "source": [
    "# SELECT\n",
    "#     COUNT(*)\n",
    "# FROM sql.pokemon"
   ]
  },
  {
   "cell_type": "markdown",
   "metadata": {},
   "source": [
    "COUNT считает строки, а звёздочка (*) в аргументе функции означает, что считаются все строки, которые возвращает запрос.\n",
    "\n",
    "Если в аргументе функции указать название столбца, функция обработает только строки с непустым значением."
   ]
  },
  {
   "cell_type": "markdown",
   "metadata": {},
   "source": [
    "Внутри функции COUNT мы можем также применять DISTINCT, чтобы вычислить количество уникальных значений."
   ]
  },
  {
   "cell_type": "code",
   "execution_count": null,
   "metadata": {},
   "outputs": [],
   "source": [
    "# SELECT\n",
    "#     COUNT(DISTINCT type1)\n",
    "# FROM sql.pokemon"
   ]
  },
  {
   "cell_type": "markdown",
   "metadata": {},
   "source": [
    "Назовём основные агрегатные функции, с которыми нам предстоит работать:\n",
    "\n",
    "- COUNT — вычисляет число непустых строк;\n",
    "- SUM — вычисляет сумму;\n",
    "- AVG — вычисляет среднее;\n",
    "- MAX — вычисляет максимум;\n",
    "- MIN — вычисляет минимум."
   ]
  },
  {
   "cell_type": "markdown",
   "metadata": {},
   "source": [
    "Кроме того, мы можем применять несколько агрегатных функций в одном запросе."
   ]
  },
  {
   "cell_type": "code",
   "execution_count": null,
   "metadata": {},
   "outputs": [],
   "source": [
    "# SELECT\n",
    "#     COUNT(*) AS \"всего травяных покемонов\",\n",
    "#     COUNT(type2) AS \"покемонов с дополнительным типом\",\n",
    "#     AVG(attack) AS \"средняя атака\",\n",
    "#     AVG(defense) AS \"средняя защита\"\n",
    "# FROM sql.pokemon\n",
    "# WHERE type1 = 'Grass'"
   ]
  },
  {
   "cell_type": "markdown",
   "metadata": {},
   "source": [
    "### Задание 3.5\n",
    "Напишите запрос, который выведет:\n",
    "\n",
    "количество покемонов (столбец pokemon_count),\n",
    "среднюю скорость (столбец avg_speed),\n",
    "максимальное и минимальное число очков здоровья (столбцы max_hp и min_hp)\n",
    "для электрических (Electric) покемонов, имеющих дополнительный тип и показатели атаки или защиты больше 50."
   ]
  },
  {
   "cell_type": "code",
   "execution_count": null,
   "metadata": {},
   "outputs": [],
   "source": [
    "# SELECT\n",
    "#     COUNT(*) AS pokemon_count,\n",
    "#     AVG(speed) AS avg_speed,\n",
    "#     MAX(hp) AS max_hp,\n",
    "#     MIN(hp) AS min_hp\n",
    "# FROM\n",
    "#     sql.pokemon\n",
    "# WHERE\n",
    "#     type1 = 'Electric' AND\n",
    "#     type2 IS NOT NULL AND\n",
    "#     (attack > 50 OR defense > 50);\n"
   ]
  },
  {
   "cell_type": "markdown",
   "metadata": {},
   "source": [
    "# 4. Группировка\n",
    "\n",
    "✍ Как мы помним, агрегатные функции вычисляют какой-то параметр для набора строк.\n",
    "\n",
    "Прежде мы применяли агрегатные функции для всего вывода, а сейчас используем для различных групп строк. Поможет нам в этом ключевое слово GROUP BY.\n",
    "\n",
    "GROUP BY используется для определения групп выходных строк, к которым могут применяться агрегатные функции.\n"
   ]
  },
  {
   "cell_type": "code",
   "execution_count": null,
   "metadata": {},
   "outputs": [],
   "source": [
    "# Выведем число покемонов каждого типа.\n",
    "\n",
    "# SELECT\n",
    "#     type1 AS pokemon_type,\n",
    "#     COUNT(*) AS pokemon_count\n",
    "# FROM sql.pokemon\n",
    "# GROUP BY type1\n",
    "# ORDER BY type1"
   ]
  },
  {
   "cell_type": "markdown",
   "metadata": {},
   "source": [
    "Вывод, конечно же, можно сортировать по столбцу с агрегированием.\n",
    "\n",
    "Представим ТОП существующих типов покемонов.\n",
    "\n",
    "Обратите внимание! Мы использовали в группировке не название столбца, а его алиас."
   ]
  },
  {
   "cell_type": "code",
   "execution_count": null,
   "metadata": {},
   "outputs": [],
   "source": [
    "# SELECT\n",
    "#     type1 AS pokemon_type,\n",
    "#     COUNT(*) AS pokemon_count\n",
    "# FROM sql.pokemon\n",
    "# GROUP BY pokemon_type\n",
    "# ORDER BY COUNT(*) DESC"
   ]
  },
  {
   "cell_type": "markdown",
   "metadata": {},
   "source": [
    "### Задание 4.1\n",
    "Напишите запрос, который выведет:\n",
    "\n",
    "- число различных дополнительных типов (столбец additional_types_count),\n",
    "- среднее число очков здоровья (столбец avg_hp),\n",
    "- сумму показателей атаки (столбец attack_sum) в разбивке по основным типам (столбец primary_type).\n",
    "\n",
    "Отсортируйте результат по числу дополнительных типов в порядке убывания, при равенстве — по основному типу в алфавитном порядке. Столбцы к выводу (обратите внимание на порядок!): primary_type, additional_types_count, avg_hp, attack_sum."
   ]
  },
  {
   "cell_type": "code",
   "execution_count": null,
   "metadata": {},
   "outputs": [],
   "source": [
    "# SELECT\n",
    "#     type1 AS primary_type,\n",
    "#     COUNT(DISTINCT type2) AS additional_types_count,\n",
    "#     AVG(hp) AS avg_hp,\n",
    "#     SUM(attack) AS attack_sum\n",
    "# FROM sql.pokemon\n",
    "# GROUP BY type1\n",
    "# ORDER BY \n",
    "#     additional_types_count DESC,\n",
    "#     primary_type"
   ]
  },
  {
   "cell_type": "markdown",
   "metadata": {},
   "source": [
    "Мы можем осуществлять группировку по нескольким столбцам."
   ]
  },
  {
   "cell_type": "code",
   "execution_count": null,
   "metadata": {},
   "outputs": [],
   "source": [
    "# SELECT\n",
    "#     type1 AS primary_type,\n",
    "#     type2 AS additional_type,\n",
    "#     COUNT(*) AS pokemon_count\n",
    "# FROM sql.pokemon\n",
    "# GROUP BY 1, 2\n",
    "# ORDER BY 1, 2 NULLS FIRST"
   ]
  },
  {
   "cell_type": "markdown",
   "metadata": {},
   "source": [
    "Обратите внимание! В группировке можно указывать порядковый номер столбца так же, как мы делали это в прошлом модуле для сортировки.\n",
    "GROUP BY можно использовать и без агрегатных функций. Тогда его действие будет равносильно действию DISTINCT.\n",
    "\n",
    "Сравните выводы двух запросов:"
   ]
  },
  {
   "cell_type": "code",
   "execution_count": null,
   "metadata": {},
   "outputs": [],
   "source": [
    "# SELECT DISTINCT \n",
    "#     type1\n",
    "# FROM sql.pokemon\n",
    "\n",
    "\n",
    "# SELECT\n",
    "#     type1\n",
    "# FROM sql.pokemon\n",
    "# GROUP BY type1"
   ]
  },
  {
   "cell_type": "markdown",
   "metadata": {},
   "source": [
    "# 5. Фильтрация агрегированных строк\n",
    "\n",
    "✍ Если ключевое слово WHERE определяет фильтрацию строк до агрегирования, то для фильтрации уже агрегированных данных применяется ключевое слово HAVING.\n",
    "\n",
    "Важно! HAVING обязательно пишется после GROUP BY.\n",
    "\n",
    "Выведем типы покемонов и их средний показатель атаки, при этом оставим только тех, у кого средняя атака больше 90."
   ]
  },
  {
   "cell_type": "code",
   "execution_count": null,
   "metadata": {},
   "outputs": [],
   "source": [
    "# SELECT\n",
    "#     type1 AS primary_type,\n",
    "#     AVG(attack) AS avg_attack\n",
    "# FROM sql.pokemon\n",
    "# GROUP BY primary_type \n",
    "# HAVING AVG(attack) > 90"
   ]
  },
  {
   "cell_type": "markdown",
   "metadata": {},
   "source": [
    "ВМЕСТО РЕЗЮМЕ\n",
    "\n",
    "В общем виде синтаксис оператора SELECT, с учётом имеющихся на данный момент знаний, представляем следующим образом:\n",
    "\n",
    "- SELECT [ALL | DISTINCT] список_столбцов|*\n",
    "- FROM список_имён_таблиц\n",
    "- [WHERE условие_поиска]\n",
    "- [GROUP BY список_имён_столбцов]\n",
    "- [HAVING условие_поиска]\n",
    "- [ORDER BY имя_столбца [ASC | DESC],…]\n",
    "\n",
    "Обратите внимание! В квадратных скобках указаны необязательные предложения: они могут отсутствовать в операторе SELECT."
   ]
  },
  {
   "cell_type": "markdown",
   "metadata": {},
   "source": [
    "### Задание 5.1\n",
    "Напишите запрос, который выведет основной и дополнительный типы покемонов (столбцы primary_type и additional_type) для тех, у кого средний показатель атаки больше 100 и максимальный показатель очков здоровья меньше 80."
   ]
  },
  {
   "cell_type": "code",
   "execution_count": null,
   "metadata": {},
   "outputs": [],
   "source": [
    "# SELECT\n",
    "#     type1 AS primary_type,\n",
    "#     type2 AS additional_type\n",
    "# FROM\n",
    "#     sql.pokemon\n",
    "# GROUP BY\n",
    "#     type1, type2\n",
    "# HAVING\n",
    "#     AVG(attack) > 100 AND\n",
    "#     MAX(hp) < 80;\n"
   ]
  },
  {
   "cell_type": "markdown",
   "metadata": {},
   "source": [
    "### Задание 5.2 \n",
    "Напишите запрос, чтобы для покемонов, чьё имя (name) начинается с S, вывести столбцы с их основным типом (primary_type) и общим числом покемонов этого типа (pokemon_count). Оставьте только те типы, у которых средний показатель защиты больше 80. Выведите топ-3 типов по числу покемонов в них."
   ]
  },
  {
   "cell_type": "code",
   "execution_count": null,
   "metadata": {},
   "outputs": [],
   "source": [
    "# SELECT\n",
    "#     type1 as primary_type,\n",
    "#     COUNT(*) as pokemon_count\n",
    "# FROM sql.pokemon\n",
    "# WHERE name LIKE 'S%'\n",
    "# GROUP BY primary_type\n",
    "# HAVING AVG(defense)>80\n",
    "# ORDER BY pokemon_count DESC\n",
    "# LIMIT 3;"
   ]
  },
  {
   "cell_type": "markdown",
   "metadata": {},
   "source": [
    "# 6. Итоги\n",
    "\n",
    "✍ Итак, каковы наши успехи в этом модуле?\n",
    "\n",
    "Вы познакомились с агрегатными функциями и научились:\n",
    "\n",
    "- считать количество строк, сумму, минимум, максимум, среднее по значениям таблицы;\n",
    "- выводить агрегированные значения в разных разрезах;\n",
    "- фильтровать по агрегированным значениям.\n",
    "\n",
    "И в довершение итогов напомним структуру запроса, который мы можем составить с учётом новых знаний:"
   ]
  },
  {
   "cell_type": "code",
   "execution_count": null,
   "metadata": {},
   "outputs": [],
   "source": [
    "# SELECT\n",
    "#     столбец1 AS новое_название,\n",
    "#     столбец2,\n",
    "#     АГРЕГАТ(столбец3)\n",
    "# FROM таблица\n",
    "# WHERE (условие1 OR условие2)\n",
    "#     AND условие3\n",
    "# GROUP BY столбец1, столбец2\n",
    "# HAVING АГРЕГАТ(столбец3) > 5\n",
    "# ORDER BY сортировка1, сортировка2\n",
    "# OFFSET 1 LIMIT 2"
   ]
  },
  {
   "cell_type": "markdown",
   "metadata": {},
   "source": [
    "### Задание 6.2\n",
    "Напишите запрос, который выведет основной и дополнительный типы покемонов и средние значения по каждому показателю (столбцы avg_hp, avg_attack, avg_defense, avg_speed).Оставьте только те пары типов, у которых сумма этих четырёх показателей более 400."
   ]
  },
  {
   "cell_type": "code",
   "execution_count": null,
   "metadata": {},
   "outputs": [],
   "source": [
    "# SELECT\n",
    "#     type1,\n",
    "#     type2,\n",
    "#     AVG(hp) AS avg_hp,\n",
    "#     AVG(attack) AS avg_attack,\n",
    "#     AVG(defense) AS avg_defense,\n",
    "#     AVG(speed) AS avg_speed\n",
    "# FROM\n",
    "#     sql.pokemon\n",
    "# group by \n",
    "#     type1, type2\n",
    "# HAVING\n",
    "#     (AVG(hp) + AVG(attack) + AVG(defense) + AVG(speed)) > 400;"
   ]
  },
  {
   "cell_type": "markdown",
   "metadata": {},
   "source": [
    "### Задание 6.3 \n",
    "Напишите запрос, который выведет столбцы с основным типом покемона и общим количеством покемонов этого типа. Учитывайте только тех покемонов, у кого или показатель атаки, или показатель защиты принимает значение между 50 и 100 включительно. Оставьте только те типы покемонов, у которых максимальный показатель здоровья не больше 125. Выведите только тот тип, который находится на пятом месте по количеству покемонов."
   ]
  },
  {
   "cell_type": "code",
   "execution_count": null,
   "metadata": {},
   "outputs": [],
   "source": [
    "# SELECT\n",
    "#     type1,\n",
    "#     COUNT(type1)\n",
    "# FROM\n",
    "#     sql.pokemon\n",
    "# WHERE\n",
    "#     (attack BETWEEN 50 AND 100 OR defense BETWEEN 50 AND 100)\n",
    "# GROUP BY type1    \n",
    "# HAVING\n",
    "#     MAX(hp) < 125\n",
    "# ORDER by COUNT(type1) DESC \n",
    "# OFFSET 4 LIMIT 1 "
   ]
  }
 ],
 "metadata": {
  "language_info": {
   "name": "python"
  }
 },
 "nbformat": 4,
 "nbformat_minor": 2
}
